{
 "cells": [
  {
   "cell_type": "markdown",
   "metadata": {},
   "source": [
    "*Edited: 17th September 2023*"
   ]
  },
  {
   "cell_type": "markdown",
   "metadata": {},
   "source": [
    "# CMM201 &mdash; Lab 2.4\n",
    "\n",
    "This week is about visualisation. Python has many data visualisation libraries. One of the easiest to use is Plotly Express. In this module we will just be touching on the basics of visualisation in Python.\n",
    "\n",
    "We will be importing pandas and plotly express. This is usually going to be done once at the top of our notebook.\n",
    "\n",
    "**If the import for Plotly gives an error such as \"No module named plotly\" then refer to the installation instructions.**"
   ]
  },
  {
   "cell_type": "code",
   "execution_count": null,
   "metadata": {},
   "outputs": [],
   "source": [
    "import pandas as pd\n",
    "import plotly.express as px"
   ]
  },
  {
   "cell_type": "markdown",
   "metadata": {},
   "source": [
    "To test that Plotly is working, we're just going to run the first example from the Plotly documentation.\n",
    "\n",
    "Run the code below to render a scatter plot.\n",
    "\n",
    "**If you are using JupyterLab and the plot area is completely blank then refer to the installation instructions.**\n",
    "\n",
    "**If you are still having issues and can't get Plotly to work at all in JupyterLab, try it in Jupyter Notebook, since that seems to work more reliably**"
   ]
  },
  {
   "cell_type": "code",
   "execution_count": null,
   "metadata": {},
   "outputs": [],
   "source": [
    "df = px.data.iris()\n",
    "px.scatter(df, x=\"sepal_width\", y=\"sepal_length\", color=\"species\")"
   ]
  },
  {
   "cell_type": "markdown",
   "metadata": {},
   "source": [
    "Now that we know that Plotly is working, let's look at the data set in the example and the plot.\n",
    "\n",
    "We will display the data frame below to see the data."
   ]
  },
  {
   "cell_type": "code",
   "execution_count": null,
   "metadata": {},
   "outputs": [],
   "source": [
    "df"
   ]
  },
  {
   "cell_type": "markdown",
   "metadata": {},
   "source": [
    "This dataset is very famously used in data analysis and machine learning tasks. You will set this example often in examples of plots. Each row of data refers to an Iris flower. There are three different species, and the first four columns refer to measurements of the specific flower.\n",
    "\n",
    "Now that we have loaded the dataset, we can make a scatter plot with only the following code:"
   ]
  },
  {
   "cell_type": "code",
   "execution_count": null,
   "metadata": {},
   "outputs": [],
   "source": [
    "px.scatter(df, x=\"sepal_width\", y=\"sepal_length\")"
   ]
  },
  {
   "cell_type": "markdown",
   "metadata": {},
   "source": [
    "Since there are three categories, the Plotly example has coloured-in the points according to the category."
   ]
  },
  {
   "cell_type": "code",
   "execution_count": null,
   "metadata": {},
   "outputs": [],
   "source": [
    "px.scatter(df, x=\"sepal_width\", y=\"sepal_length\", color=\"species\")"
   ]
  },
  {
   "cell_type": "markdown",
   "metadata": {},
   "source": [
    "**(a)** Using the [Plotly Documentation](https://plotly.com/python/plotly-express/) and [API Reference](https://plotly.com/python-api-reference/plotly.express.html), create a 3D scatter plot below. Choose three of the measurements to serve as the axes (don't forget to color the points by species, so we know which points refer to which categories)."
   ]
  },
  {
   "cell_type": "code",
   "execution_count": null,
   "metadata": {},
   "outputs": [],
   "source": []
  },
  {
   "cell_type": "markdown",
   "metadata": {},
   "source": [
    "Plotly has defaulted to showing the points in red, green, and blue - the three primary colours of light.\n",
    "\n",
    "Some combinations of colors can be easier or harder to tell apart, particularly for people with colour blindness.\n",
    "\n",
    "This module does not cover optimal choice of colors, however, you need to be able to change plot colors in Plotly.\n",
    "\n",
    "In the plotly documentation, you can read about [Discrete Color Swatches](https://plotly.com/python/discrete-color/). Since the variable we have used to colour the points (species) is categorical, we should use one of the discrete color swatches.\n",
    "\n",
    "If our variable was continuous, we would use [Continuous Color Swatches](https://plotly.com/python/builtin-colorscales/) instead.\n",
    "\n",
    "**(b)** Looking at the documentation, what is the visual difference between a discrete color scale and a continuous color scale?"
   ]
  },
  {
   "cell_type": "raw",
   "metadata": {},
   "source": []
  },
  {
   "cell_type": "markdown",
   "metadata": {},
   "source": [
    "**(c)** Choose discrete a color scale (other than the default) and apply it to your 3D plot"
   ]
  },
  {
   "cell_type": "code",
   "execution_count": null,
   "metadata": {},
   "outputs": [],
   "source": []
  },
  {
   "cell_type": "markdown",
   "metadata": {},
   "source": [
    "Something which can make 3D plots harder to view is that the points are completely opaque (non-transparent)\n",
    "\n",
    "**(d)** Reduce the opacity of the points to 50%"
   ]
  },
  {
   "cell_type": "code",
   "execution_count": null,
   "metadata": {},
   "outputs": [],
   "source": []
  },
  {
   "cell_type": "markdown",
   "metadata": {},
   "source": [
    "**(e)** Which of the three flower species is most clearly different from the other two?"
   ]
  },
  {
   "cell_type": "raw",
   "metadata": {},
   "source": []
  },
  {
   "cell_type": "markdown",
   "metadata": {},
   "source": [
    "If you hover over one of the points, you'll see that three of the measurements, and the species are displayed in the hover box.\n",
    "\n",
    "**(f)** Add the fourth measurement to the hover box.\n",
    "\n",
    "**Hint:** There are two ways to add something to the hover box, which you will see in the documentation, which one makes most sense here?"
   ]
  },
  {
   "cell_type": "code",
   "execution_count": null,
   "metadata": {},
   "outputs": [],
   "source": []
  },
  {
   "cell_type": "markdown",
   "metadata": {},
   "source": [
    "Something to finish off our plot, we need to add a title. We may also want to change the axis labels so that instead of, say \"sepal_length\" it shows \"sepal length (cm)\".\n",
    "\n",
    "**(g)** Update your plot to include an appropriate title, and make sure all variables show the units (the four measurements are all in cm)."
   ]
  },
  {
   "cell_type": "code",
   "execution_count": null,
   "metadata": {},
   "outputs": [],
   "source": []
  },
  {
   "cell_type": "markdown",
   "metadata": {},
   "source": [
    "Now we know how to create plots in Plotly Express. Through the lesson videos and the lab you will have seen 2D and 3D scatter plots, bar charts, and animated 2D scatter plots.\n",
    "\n",
    "It is very important to be able to refer to the official Plotly documentation when trying to build a plot if you don't have all the dozens of plot types and hundreds of function arguments memorized.\n",
    "\n",
    "So always read the documentation while building a plot."
   ]
  },
  {
   "cell_type": "markdown",
   "metadata": {},
   "source": [
    "**(h)** Earlier we mentioned there are two ways to add something to the hover box. These are `hover_data` and `hover_name`. Check the Plotly Express API documentation for one of the plotting methods, such as `scatter`. What is the difference between these two?"
   ]
  },
  {
   "cell_type": "raw",
   "metadata": {},
   "source": []
  }
 ],
 "metadata": {
  "kernelspec": {
   "display_name": "Python 3 (ipykernel)",
   "language": "python",
   "name": "python3"
  },
  "language_info": {
   "codemirror_mode": {
    "name": "ipython",
    "version": 3
   },
   "file_extension": ".py",
   "mimetype": "text/x-python",
   "name": "python",
   "nbconvert_exporter": "python",
   "pygments_lexer": "ipython3",
   "version": "3.9.13"
  }
 },
 "nbformat": 4,
 "nbformat_minor": 4
}
