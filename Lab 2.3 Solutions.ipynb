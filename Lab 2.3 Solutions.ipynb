{
 "cells": [
  {
   "cell_type": "markdown",
   "metadata": {},
   "source": [
    "*Edited: 2022-09-13*"
   ]
  },
  {
   "cell_type": "markdown",
   "metadata": {},
   "source": [
    "# CMM201 &mdash; Lab 2.3 &mdash; Solutions"
   ]
  },
  {
   "cell_type": "code",
   "execution_count": 1,
   "metadata": {},
   "outputs": [],
   "source": [
    "import pandas as pd\n",
    "\n",
    "df = pd.read_csv('dogs.csv')"
   ]
  },
  {
   "cell_type": "markdown",
   "metadata": {},
   "source": [
    "**(a)**"
   ]
  },
  {
   "cell_type": "code",
   "execution_count": 2,
   "metadata": {},
   "outputs": [],
   "source": [
    "df.set_index('Breed Name', inplace=True)"
   ]
  },
  {
   "cell_type": "markdown",
   "metadata": {},
   "source": [
    "**(b)**"
   ]
  },
  {
   "cell_type": "code",
   "execution_count": 3,
   "metadata": {},
   "outputs": [
    {
     "data": {
      "text/plain": [
       "dtype('int64')"
      ]
     },
     "execution_count": 3,
     "metadata": {},
     "output_type": "execute_result"
    }
   ],
   "source": [
    "df['UK Registrations'].dtype"
   ]
  },
  {
   "cell_type": "raw",
   "metadata": {},
   "source": [
    "They are of type int64."
   ]
  },
  {
   "cell_type": "markdown",
   "metadata": {},
   "source": [
    "**(c)**"
   ]
  },
  {
   "cell_type": "code",
   "execution_count": 4,
   "metadata": {},
   "outputs": [
    {
     "data": {
      "text/html": [
       "<div>\n",
       "<style scoped>\n",
       "    .dataframe tbody tr th:only-of-type {\n",
       "        vertical-align: middle;\n",
       "    }\n",
       "\n",
       "    .dataframe tbody tr th {\n",
       "        vertical-align: top;\n",
       "    }\n",
       "\n",
       "    .dataframe thead th {\n",
       "        text-align: right;\n",
       "    }\n",
       "</style>\n",
       "<table border=\"1\" class=\"dataframe\">\n",
       "  <thead>\n",
       "    <tr style=\"text-align: right;\">\n",
       "      <th></th>\n",
       "      <th>UK Registrations</th>\n",
       "      <th>Weight (kg)</th>\n",
       "      <th>Country of Origin</th>\n",
       "    </tr>\n",
       "    <tr>\n",
       "      <th>Breed Name</th>\n",
       "      <th></th>\n",
       "      <th></th>\n",
       "      <th></th>\n",
       "    </tr>\n",
       "  </thead>\n",
       "  <tbody>\n",
       "    <tr>\n",
       "      <th>Labrador Retriever</th>\n",
       "      <td>45700</td>\n",
       "      <td>32.50</td>\n",
       "      <td>United Kingdom</td>\n",
       "    </tr>\n",
       "    <tr>\n",
       "      <th>English Cocker Spaniel</th>\n",
       "      <td>20459</td>\n",
       "      <td>NaN</td>\n",
       "      <td>England</td>\n",
       "    </tr>\n",
       "    <tr>\n",
       "      <th>English Springer Spaniel</th>\n",
       "      <td>15133</td>\n",
       "      <td>NaN</td>\n",
       "      <td>England</td>\n",
       "    </tr>\n",
       "    <tr>\n",
       "      <th>German Shepherd</th>\n",
       "      <td>12857</td>\n",
       "      <td>34.00</td>\n",
       "      <td>Germany</td>\n",
       "    </tr>\n",
       "    <tr>\n",
       "      <th>Staffordshire Bull Terrier</th>\n",
       "      <td>12729</td>\n",
       "      <td>33.00</td>\n",
       "      <td>England</td>\n",
       "    </tr>\n",
       "    <tr>\n",
       "      <th>Cavalier King Charles Spaniel</th>\n",
       "      <td>11411</td>\n",
       "      <td>15.50</td>\n",
       "      <td>United Kingdom</td>\n",
       "    </tr>\n",
       "    <tr>\n",
       "      <th>Golden Retriever</th>\n",
       "      <td>9373</td>\n",
       "      <td>70.00</td>\n",
       "      <td>Scotland</td>\n",
       "    </tr>\n",
       "    <tr>\n",
       "      <th>West Highland White Terrier</th>\n",
       "      <td>9300</td>\n",
       "      <td>7.95</td>\n",
       "      <td>Scotland</td>\n",
       "    </tr>\n",
       "    <tr>\n",
       "      <th>Boxer</th>\n",
       "      <td>9066</td>\n",
       "      <td>70.00</td>\n",
       "      <td>Germany</td>\n",
       "    </tr>\n",
       "    <tr>\n",
       "      <th>Border Terrier</th>\n",
       "      <td>8916</td>\n",
       "      <td>6.50</td>\n",
       "      <td>United Kingdom</td>\n",
       "    </tr>\n",
       "  </tbody>\n",
       "</table>\n",
       "</div>"
      ],
      "text/plain": [
       "                               UK Registrations  Weight (kg) Country of Origin\n",
       "Breed Name                                                                    \n",
       "Labrador Retriever                        45700        32.50    United Kingdom\n",
       "English Cocker Spaniel                    20459          NaN           England\n",
       "English Springer Spaniel                  15133          NaN           England\n",
       "German Shepherd                           12857        34.00           Germany\n",
       "Staffordshire Bull Terrier                12729        33.00           England\n",
       "Cavalier King Charles Spaniel             11411        15.50    United Kingdom\n",
       "Golden Retriever                           9373        70.00          Scotland\n",
       "West Highland White Terrier                9300         7.95          Scotland\n",
       "Boxer                                      9066        70.00           Germany\n",
       "Border Terrier                             8916         6.50    United Kingdom"
      ]
     },
     "execution_count": 4,
     "metadata": {},
     "output_type": "execute_result"
    }
   ],
   "source": [
    "df.rename(columns={'Origin' : 'Country of Origin'}, inplace=True)\n",
    "\n",
    "df"
   ]
  },
  {
   "cell_type": "markdown",
   "metadata": {},
   "source": [
    "**(d)**"
   ]
  },
  {
   "cell_type": "code",
   "execution_count": 5,
   "metadata": {},
   "outputs": [
    {
     "data": {
      "text/html": [
       "<div>\n",
       "<style scoped>\n",
       "    .dataframe tbody tr th:only-of-type {\n",
       "        vertical-align: middle;\n",
       "    }\n",
       "\n",
       "    .dataframe tbody tr th {\n",
       "        vertical-align: top;\n",
       "    }\n",
       "\n",
       "    .dataframe thead th {\n",
       "        text-align: right;\n",
       "    }\n",
       "</style>\n",
       "<table border=\"1\" class=\"dataframe\">\n",
       "  <thead>\n",
       "    <tr style=\"text-align: right;\">\n",
       "      <th></th>\n",
       "      <th>UK Registrations</th>\n",
       "      <th>Weight (kg)</th>\n",
       "      <th>Country of Origin</th>\n",
       "    </tr>\n",
       "    <tr>\n",
       "      <th>Breed Name</th>\n",
       "      <th></th>\n",
       "      <th></th>\n",
       "      <th></th>\n",
       "    </tr>\n",
       "  </thead>\n",
       "  <tbody>\n",
       "    <tr>\n",
       "      <th>Staffordshire Bull Terrier</th>\n",
       "      <td>12729</td>\n",
       "      <td>33.00</td>\n",
       "      <td>England</td>\n",
       "    </tr>\n",
       "    <tr>\n",
       "      <th>Cavalier King Charles Spaniel</th>\n",
       "      <td>11411</td>\n",
       "      <td>15.50</td>\n",
       "      <td>United Kingdom</td>\n",
       "    </tr>\n",
       "    <tr>\n",
       "      <th>Golden Retriever</th>\n",
       "      <td>9373</td>\n",
       "      <td>70.00</td>\n",
       "      <td>Scotland</td>\n",
       "    </tr>\n",
       "    <tr>\n",
       "      <th>West Highland White Terrier</th>\n",
       "      <td>9300</td>\n",
       "      <td>7.95</td>\n",
       "      <td>Scotland</td>\n",
       "    </tr>\n",
       "    <tr>\n",
       "      <th>Boxer</th>\n",
       "      <td>9066</td>\n",
       "      <td>70.00</td>\n",
       "      <td>Germany</td>\n",
       "    </tr>\n",
       "  </tbody>\n",
       "</table>\n",
       "</div>"
      ],
      "text/plain": [
       "                               UK Registrations  Weight (kg) Country of Origin\n",
       "Breed Name                                                                    \n",
       "Staffordshire Bull Terrier                12729        33.00           England\n",
       "Cavalier King Charles Spaniel             11411        15.50    United Kingdom\n",
       "Golden Retriever                           9373        70.00          Scotland\n",
       "West Highland White Terrier                9300         7.95          Scotland\n",
       "Boxer                                      9066        70.00           Germany"
      ]
     },
     "execution_count": 5,
     "metadata": {},
     "output_type": "execute_result"
    }
   ],
   "source": [
    "df.iloc[4:9]"
   ]
  },
  {
   "cell_type": "code",
   "execution_count": 6,
   "metadata": {},
   "outputs": [
    {
     "data": {
      "text/html": [
       "<div>\n",
       "<style scoped>\n",
       "    .dataframe tbody tr th:only-of-type {\n",
       "        vertical-align: middle;\n",
       "    }\n",
       "\n",
       "    .dataframe tbody tr th {\n",
       "        vertical-align: top;\n",
       "    }\n",
       "\n",
       "    .dataframe thead th {\n",
       "        text-align: right;\n",
       "    }\n",
       "</style>\n",
       "<table border=\"1\" class=\"dataframe\">\n",
       "  <thead>\n",
       "    <tr style=\"text-align: right;\">\n",
       "      <th></th>\n",
       "      <th>UK Registrations</th>\n",
       "      <th>Weight (kg)</th>\n",
       "      <th>Country of Origin</th>\n",
       "    </tr>\n",
       "    <tr>\n",
       "      <th>Breed Name</th>\n",
       "      <th></th>\n",
       "      <th></th>\n",
       "      <th></th>\n",
       "    </tr>\n",
       "  </thead>\n",
       "  <tbody>\n",
       "    <tr>\n",
       "      <th>Staffordshire Bull Terrier</th>\n",
       "      <td>12729</td>\n",
       "      <td>33.00</td>\n",
       "      <td>England</td>\n",
       "    </tr>\n",
       "    <tr>\n",
       "      <th>Cavalier King Charles Spaniel</th>\n",
       "      <td>11411</td>\n",
       "      <td>15.50</td>\n",
       "      <td>United Kingdom</td>\n",
       "    </tr>\n",
       "    <tr>\n",
       "      <th>Golden Retriever</th>\n",
       "      <td>9373</td>\n",
       "      <td>70.00</td>\n",
       "      <td>Scotland</td>\n",
       "    </tr>\n",
       "    <tr>\n",
       "      <th>West Highland White Terrier</th>\n",
       "      <td>9300</td>\n",
       "      <td>7.95</td>\n",
       "      <td>Scotland</td>\n",
       "    </tr>\n",
       "    <tr>\n",
       "      <th>Boxer</th>\n",
       "      <td>9066</td>\n",
       "      <td>70.00</td>\n",
       "      <td>Germany</td>\n",
       "    </tr>\n",
       "  </tbody>\n",
       "</table>\n",
       "</div>"
      ],
      "text/plain": [
       "                               UK Registrations  Weight (kg) Country of Origin\n",
       "Breed Name                                                                    \n",
       "Staffordshire Bull Terrier                12729        33.00           England\n",
       "Cavalier King Charles Spaniel             11411        15.50    United Kingdom\n",
       "Golden Retriever                           9373        70.00          Scotland\n",
       "West Highland White Terrier                9300         7.95          Scotland\n",
       "Boxer                                      9066        70.00           Germany"
      ]
     },
     "execution_count": 6,
     "metadata": {},
     "output_type": "execute_result"
    }
   ],
   "source": [
    "df.loc['Staffordshire Bull Terrier':'Boxer']"
   ]
  },
  {
   "cell_type": "markdown",
   "metadata": {},
   "source": [
    "**(e)**"
   ]
  },
  {
   "cell_type": "code",
   "execution_count": 7,
   "metadata": {},
   "outputs": [
    {
     "data": {
      "text/html": [
       "<div>\n",
       "<style scoped>\n",
       "    .dataframe tbody tr th:only-of-type {\n",
       "        vertical-align: middle;\n",
       "    }\n",
       "\n",
       "    .dataframe tbody tr th {\n",
       "        vertical-align: top;\n",
       "    }\n",
       "\n",
       "    .dataframe thead th {\n",
       "        text-align: right;\n",
       "    }\n",
       "</style>\n",
       "<table border=\"1\" class=\"dataframe\">\n",
       "  <thead>\n",
       "    <tr style=\"text-align: right;\">\n",
       "      <th></th>\n",
       "      <th>UK Registrations</th>\n",
       "      <th>Weight (kg)</th>\n",
       "      <th>Country of Origin</th>\n",
       "    </tr>\n",
       "    <tr>\n",
       "      <th>Breed Name</th>\n",
       "      <th></th>\n",
       "      <th></th>\n",
       "      <th></th>\n",
       "    </tr>\n",
       "  </thead>\n",
       "  <tbody>\n",
       "    <tr>\n",
       "      <th>Golden Retriever</th>\n",
       "      <td>9373</td>\n",
       "      <td>70.00</td>\n",
       "      <td>Scotland</td>\n",
       "    </tr>\n",
       "    <tr>\n",
       "      <th>West Highland White Terrier</th>\n",
       "      <td>9300</td>\n",
       "      <td>7.95</td>\n",
       "      <td>Scotland</td>\n",
       "    </tr>\n",
       "    <tr>\n",
       "      <th>Boxer</th>\n",
       "      <td>9066</td>\n",
       "      <td>70.00</td>\n",
       "      <td>Germany</td>\n",
       "    </tr>\n",
       "  </tbody>\n",
       "</table>\n",
       "</div>"
      ],
      "text/plain": [
       "                             UK Registrations  Weight (kg) Country of Origin\n",
       "Breed Name                                                                  \n",
       "Golden Retriever                         9373        70.00          Scotland\n",
       "West Highland White Terrier              9300         7.95          Scotland\n",
       "Boxer                                    9066        70.00           Germany"
      ]
     },
     "execution_count": 7,
     "metadata": {},
     "output_type": "execute_result"
    }
   ],
   "source": [
    "df.loc['Golden Retriever':'Boxer']  "
   ]
  },
  {
   "cell_type": "code",
   "execution_count": 8,
   "metadata": {},
   "outputs": [
    {
     "data": {
      "text/html": [
       "<div>\n",
       "<style scoped>\n",
       "    .dataframe tbody tr th:only-of-type {\n",
       "        vertical-align: middle;\n",
       "    }\n",
       "\n",
       "    .dataframe tbody tr th {\n",
       "        vertical-align: top;\n",
       "    }\n",
       "\n",
       "    .dataframe thead th {\n",
       "        text-align: right;\n",
       "    }\n",
       "</style>\n",
       "<table border=\"1\" class=\"dataframe\">\n",
       "  <thead>\n",
       "    <tr style=\"text-align: right;\">\n",
       "      <th></th>\n",
       "      <th>UK Registrations</th>\n",
       "      <th>Weight (kg)</th>\n",
       "      <th>Country of Origin</th>\n",
       "    </tr>\n",
       "    <tr>\n",
       "      <th>Breed Name</th>\n",
       "      <th></th>\n",
       "      <th></th>\n",
       "      <th></th>\n",
       "    </tr>\n",
       "  </thead>\n",
       "  <tbody>\n",
       "    <tr>\n",
       "      <th>Golden Retriever</th>\n",
       "      <td>9373</td>\n",
       "      <td>70.00</td>\n",
       "      <td>Scotland</td>\n",
       "    </tr>\n",
       "    <tr>\n",
       "      <th>West Highland White Terrier</th>\n",
       "      <td>9300</td>\n",
       "      <td>7.95</td>\n",
       "      <td>Scotland</td>\n",
       "    </tr>\n",
       "    <tr>\n",
       "      <th>Boxer</th>\n",
       "      <td>9066</td>\n",
       "      <td>70.00</td>\n",
       "      <td>Germany</td>\n",
       "    </tr>\n",
       "  </tbody>\n",
       "</table>\n",
       "</div>"
      ],
      "text/plain": [
       "                             UK Registrations  Weight (kg) Country of Origin\n",
       "Breed Name                                                                  \n",
       "Golden Retriever                         9373        70.00          Scotland\n",
       "West Highland White Terrier              9300         7.95          Scotland\n",
       "Boxer                                    9066        70.00           Germany"
      ]
     },
     "execution_count": 8,
     "metadata": {},
     "output_type": "execute_result"
    }
   ],
   "source": [
    "df.iloc[6:9]"
   ]
  },
  {
   "cell_type": "markdown",
   "metadata": {},
   "source": [
    "**(f)**"
   ]
  },
  {
   "cell_type": "code",
   "execution_count": 9,
   "metadata": {},
   "outputs": [
    {
     "data": {
      "text/html": [
       "<div>\n",
       "<style scoped>\n",
       "    .dataframe tbody tr th:only-of-type {\n",
       "        vertical-align: middle;\n",
       "    }\n",
       "\n",
       "    .dataframe tbody tr th {\n",
       "        vertical-align: top;\n",
       "    }\n",
       "\n",
       "    .dataframe thead th {\n",
       "        text-align: right;\n",
       "    }\n",
       "</style>\n",
       "<table border=\"1\" class=\"dataframe\">\n",
       "  <thead>\n",
       "    <tr style=\"text-align: right;\">\n",
       "      <th></th>\n",
       "      <th>UK Registrations</th>\n",
       "      <th>Weight (kg)</th>\n",
       "      <th>Country of Origin</th>\n",
       "    </tr>\n",
       "    <tr>\n",
       "      <th>Breed Name</th>\n",
       "      <th></th>\n",
       "      <th></th>\n",
       "      <th></th>\n",
       "    </tr>\n",
       "  </thead>\n",
       "  <tbody>\n",
       "    <tr>\n",
       "      <th>Labrador Retriever</th>\n",
       "      <td>45700</td>\n",
       "      <td>32.5</td>\n",
       "      <td>United Kingdom</td>\n",
       "    </tr>\n",
       "    <tr>\n",
       "      <th>English Cocker Spaniel</th>\n",
       "      <td>20459</td>\n",
       "      <td>NaN</td>\n",
       "      <td>England</td>\n",
       "    </tr>\n",
       "  </tbody>\n",
       "</table>\n",
       "</div>"
      ],
      "text/plain": [
       "                        UK Registrations  Weight (kg) Country of Origin\n",
       "Breed Name                                                             \n",
       "Labrador Retriever                 45700         32.5    United Kingdom\n",
       "English Cocker Spaniel             20459          NaN           England"
      ]
     },
     "execution_count": 9,
     "metadata": {},
     "output_type": "execute_result"
    }
   ],
   "source": [
    "df[df['UK Registrations'] > 20000]"
   ]
  },
  {
   "cell_type": "markdown",
   "metadata": {},
   "source": [
    "**(g)**"
   ]
  },
  {
   "cell_type": "code",
   "execution_count": 10,
   "metadata": {},
   "outputs": [
    {
     "data": {
      "text/html": [
       "<div>\n",
       "<style scoped>\n",
       "    .dataframe tbody tr th:only-of-type {\n",
       "        vertical-align: middle;\n",
       "    }\n",
       "\n",
       "    .dataframe tbody tr th {\n",
       "        vertical-align: top;\n",
       "    }\n",
       "\n",
       "    .dataframe thead th {\n",
       "        text-align: right;\n",
       "    }\n",
       "</style>\n",
       "<table border=\"1\" class=\"dataframe\">\n",
       "  <thead>\n",
       "    <tr style=\"text-align: right;\">\n",
       "      <th></th>\n",
       "      <th>UK Registrations</th>\n",
       "      <th>Weight (kg)</th>\n",
       "      <th>Country of Origin</th>\n",
       "    </tr>\n",
       "    <tr>\n",
       "      <th>Breed Name</th>\n",
       "      <th></th>\n",
       "      <th></th>\n",
       "      <th></th>\n",
       "    </tr>\n",
       "  </thead>\n",
       "  <tbody>\n",
       "    <tr>\n",
       "      <th>German Shepherd</th>\n",
       "      <td>12857</td>\n",
       "      <td>34.0</td>\n",
       "      <td>Germany</td>\n",
       "    </tr>\n",
       "    <tr>\n",
       "      <th>Boxer</th>\n",
       "      <td>9066</td>\n",
       "      <td>70.0</td>\n",
       "      <td>Germany</td>\n",
       "    </tr>\n",
       "  </tbody>\n",
       "</table>\n",
       "</div>"
      ],
      "text/plain": [
       "                 UK Registrations  Weight (kg) Country of Origin\n",
       "Breed Name                                                      \n",
       "German Shepherd             12857         34.0           Germany\n",
       "Boxer                        9066         70.0           Germany"
      ]
     },
     "execution_count": 10,
     "metadata": {},
     "output_type": "execute_result"
    }
   ],
   "source": [
    "df[df['Country of Origin'] == 'Germany']"
   ]
  },
  {
   "cell_type": "markdown",
   "metadata": {},
   "source": [
    "**(h)**"
   ]
  },
  {
   "cell_type": "code",
   "execution_count": 11,
   "metadata": {},
   "outputs": [
    {
     "data": {
      "text/html": [
       "<div>\n",
       "<style scoped>\n",
       "    .dataframe tbody tr th:only-of-type {\n",
       "        vertical-align: middle;\n",
       "    }\n",
       "\n",
       "    .dataframe tbody tr th {\n",
       "        vertical-align: top;\n",
       "    }\n",
       "\n",
       "    .dataframe thead th {\n",
       "        text-align: right;\n",
       "    }\n",
       "</style>\n",
       "<table border=\"1\" class=\"dataframe\">\n",
       "  <thead>\n",
       "    <tr style=\"text-align: right;\">\n",
       "      <th></th>\n",
       "      <th>UK Registrations</th>\n",
       "      <th>Weight (kg)</th>\n",
       "      <th>Country of Origin</th>\n",
       "      <th>% UK Registrations</th>\n",
       "    </tr>\n",
       "    <tr>\n",
       "      <th>Breed Name</th>\n",
       "      <th></th>\n",
       "      <th></th>\n",
       "      <th></th>\n",
       "      <th></th>\n",
       "    </tr>\n",
       "  </thead>\n",
       "  <tbody>\n",
       "    <tr>\n",
       "      <th>Labrador Retriever</th>\n",
       "      <td>45700</td>\n",
       "      <td>32.50</td>\n",
       "      <td>United Kingdom</td>\n",
       "      <td>29.5</td>\n",
       "    </tr>\n",
       "    <tr>\n",
       "      <th>English Cocker Spaniel</th>\n",
       "      <td>20459</td>\n",
       "      <td>NaN</td>\n",
       "      <td>England</td>\n",
       "      <td>13.2</td>\n",
       "    </tr>\n",
       "    <tr>\n",
       "      <th>English Springer Spaniel</th>\n",
       "      <td>15133</td>\n",
       "      <td>NaN</td>\n",
       "      <td>England</td>\n",
       "      <td>9.8</td>\n",
       "    </tr>\n",
       "    <tr>\n",
       "      <th>German Shepherd</th>\n",
       "      <td>12857</td>\n",
       "      <td>34.00</td>\n",
       "      <td>Germany</td>\n",
       "      <td>8.3</td>\n",
       "    </tr>\n",
       "    <tr>\n",
       "      <th>Staffordshire Bull Terrier</th>\n",
       "      <td>12729</td>\n",
       "      <td>33.00</td>\n",
       "      <td>England</td>\n",
       "      <td>8.2</td>\n",
       "    </tr>\n",
       "    <tr>\n",
       "      <th>Cavalier King Charles Spaniel</th>\n",
       "      <td>11411</td>\n",
       "      <td>15.50</td>\n",
       "      <td>United Kingdom</td>\n",
       "      <td>7.4</td>\n",
       "    </tr>\n",
       "    <tr>\n",
       "      <th>Golden Retriever</th>\n",
       "      <td>9373</td>\n",
       "      <td>70.00</td>\n",
       "      <td>Scotland</td>\n",
       "      <td>6.0</td>\n",
       "    </tr>\n",
       "    <tr>\n",
       "      <th>West Highland White Terrier</th>\n",
       "      <td>9300</td>\n",
       "      <td>7.95</td>\n",
       "      <td>Scotland</td>\n",
       "      <td>6.0</td>\n",
       "    </tr>\n",
       "    <tr>\n",
       "      <th>Boxer</th>\n",
       "      <td>9066</td>\n",
       "      <td>70.00</td>\n",
       "      <td>Germany</td>\n",
       "      <td>5.9</td>\n",
       "    </tr>\n",
       "    <tr>\n",
       "      <th>Border Terrier</th>\n",
       "      <td>8916</td>\n",
       "      <td>6.50</td>\n",
       "      <td>United Kingdom</td>\n",
       "      <td>5.8</td>\n",
       "    </tr>\n",
       "  </tbody>\n",
       "</table>\n",
       "</div>"
      ],
      "text/plain": [
       "                               UK Registrations  Weight (kg)  \\\n",
       "Breed Name                                                     \n",
       "Labrador Retriever                        45700        32.50   \n",
       "English Cocker Spaniel                    20459          NaN   \n",
       "English Springer Spaniel                  15133          NaN   \n",
       "German Shepherd                           12857        34.00   \n",
       "Staffordshire Bull Terrier                12729        33.00   \n",
       "Cavalier King Charles Spaniel             11411        15.50   \n",
       "Golden Retriever                           9373        70.00   \n",
       "West Highland White Terrier                9300         7.95   \n",
       "Boxer                                      9066        70.00   \n",
       "Border Terrier                             8916         6.50   \n",
       "\n",
       "                              Country of Origin  % UK Registrations  \n",
       "Breed Name                                                           \n",
       "Labrador Retriever               United Kingdom                29.5  \n",
       "English Cocker Spaniel                  England                13.2  \n",
       "English Springer Spaniel                England                 9.8  \n",
       "German Shepherd                         Germany                 8.3  \n",
       "Staffordshire Bull Terrier              England                 8.2  \n",
       "Cavalier King Charles Spaniel    United Kingdom                 7.4  \n",
       "Golden Retriever                       Scotland                 6.0  \n",
       "West Highland White Terrier            Scotland                 6.0  \n",
       "Boxer                                   Germany                 5.9  \n",
       "Border Terrier                   United Kingdom                 5.8  "
      ]
     },
     "execution_count": 11,
     "metadata": {},
     "output_type": "execute_result"
    }
   ],
   "source": [
    "total = df['UK Registrations'].sum()\n",
    "\n",
    "df['% UK Registrations'] = (100 * df['UK Registrations'] / total).round(1)\n",
    "\n",
    "df"
   ]
  }
 ],
 "metadata": {
  "kernelspec": {
   "display_name": "Python 3 (ipykernel)",
   "language": "python",
   "name": "python3"
  },
  "language_info": {
   "codemirror_mode": {
    "name": "ipython",
    "version": 3
   },
   "file_extension": ".py",
   "mimetype": "text/x-python",
   "name": "python",
   "nbconvert_exporter": "python",
   "pygments_lexer": "ipython3",
   "version": "3.9.10"
  }
 },
 "nbformat": 4,
 "nbformat_minor": 4
}
