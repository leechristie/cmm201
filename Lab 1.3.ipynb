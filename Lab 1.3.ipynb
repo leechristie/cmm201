{
 "cells": [
  {
   "cell_type": "markdown",
   "metadata": {},
   "source": [
    "*Edited: 2022-09-12*"
   ]
  },
  {
   "cell_type": "markdown",
   "metadata": {},
   "source": [
    "# CMM201 &mdash; Lab 1.3\n",
    "\n",
    "In this lab we will learn about defining and calling functions in Python.\n",
    "\n",
    "It is very important to clearly understand the difference between defining a function and calling a function.\n",
    "\n",
    "## Defining and Calling Pure Functions\n",
    "\n",
    "Run the next cell to **define** the `plus_one` function with the argument `x`. This means we are telling Python that when it sees the name `plus_one` it refers to this function. What the function does is up to us to decide.\n",
    "\n",
    "You will not see any output, this is as expected, defining a function doesn't create output."
   ]
  },
  {
   "cell_type": "code",
   "execution_count": null,
   "metadata": {},
   "outputs": [],
   "source": [
    "def plus_one(x):\n",
    "    return x + 1"
   ]
  },
  {
   "cell_type": "markdown",
   "metadata": {},
   "source": [
    "Now, let's **call** the function, with the argument `42` to get a return value `43`. Since the call is on the last line of the cell, it will produce a Jupyter output cell."
   ]
  },
  {
   "cell_type": "code",
   "execution_count": null,
   "metadata": {},
   "outputs": [],
   "source": [
    "plus_one(42)"
   ]
  },
  {
   "cell_type": "markdown",
   "metadata": {},
   "source": [
    "What happens if we call a function that is not yet defined, such as `hello`?"
   ]
  },
  {
   "cell_type": "code",
   "execution_count": null,
   "metadata": {},
   "outputs": [],
   "source": [
    "hello(42)"
   ]
  },
  {
   "cell_type": "markdown",
   "metadata": {},
   "source": [
    "You will see a name error, saying hello is not defined.\n",
    "\n",
    "You can not call a function until after it is defined!\n",
    "\n",
    "Looking back to our function, `plus_one`. What does it do?\n",
    "\n",
    "Well, this line:\n",
    "\n",
    "    def plus_one(x):\n",
    "\n",
    "tells Python we want to define (which is written as `def`) a function, and we want to call it `plus_one`. It will take some value as in input to the function, and we will call this value `x`.\n",
    "\n",
    "This line:\n",
    "\n",
    "        return x + 1\n",
    "\n",
    "tells Python the result of the function will be whatever `x` was, plus one.\n",
    "\n",
    "For both the name `plus_one` and the name `x` we could have chosen any other valid names, these are just the names chosen for this example.\n",
    "\n",
    "However, `def` and `return` are called **keywords** meaning you must use exactly those words or Python won't understand!\n",
    "\n",
    "Note that the second line is indented with 4 spaces.\n",
    "\n",
    "Notice that if you change it to 2 spaces for example, it may still work, but JupyterLab or Jupyter Notebook will try to warn you about the unconventional spacing by highlighting the first word on the second line red."
   ]
  },
  {
   "cell_type": "code",
   "execution_count": null,
   "metadata": {},
   "outputs": [],
   "source": [
    "def plus_one(x):\n",
    "  return x + 1"
   ]
  },
  {
   "cell_type": "markdown",
   "metadata": {},
   "source": [
    "Note that when we called the function we didn't do anything with the result, except allow it to be shown to an output cell.\n",
    "\n",
    "We could store the result for later use (we won't get an output cell here).\n",
    "\n",
    "Note that `result` is not a keyword, this is just a variable whose name we have chosen for this example."
   ]
  },
  {
   "cell_type": "code",
   "execution_count": null,
   "metadata": {},
   "outputs": [],
   "source": [
    "result = plus_one(42)"
   ]
  },
  {
   "cell_type": "markdown",
   "metadata": {},
   "source": [
    "And then display it:"
   ]
  },
  {
   "cell_type": "code",
   "execution_count": null,
   "metadata": {},
   "outputs": [],
   "source": [
    "result"
   ]
  },
  {
   "cell_type": "markdown",
   "metadata": {},
   "source": [
    "Above we called `x` an \"argument\" and `42` an \"argument\".\n",
    "\n",
    "It's normal for programmers to use this word in two ways. If you prefer, sometimes we say `x` is a **formal argument** and `42` is an **actual argument**. In this module, and in many other texts, you will typically just see the word \"argument\" used in both cases, as it is usually clear form the context which we are referring to.\n",
    "\n",
    "We can (as above) use a number directly as the argument to the function.\n",
    "\n",
    "But we can also use a variable name."
   ]
  },
  {
   "cell_type": "code",
   "execution_count": null,
   "metadata": {},
   "outputs": [],
   "source": [
    "start_value = 42\n",
    "\n",
    "plus_one(start_value)"
   ]
  },
  {
   "cell_type": "markdown",
   "metadata": {},
   "source": [
    "We could even do some calculations first before sending the result as an argument to the function."
   ]
  },
  {
   "cell_type": "code",
   "execution_count": null,
   "metadata": {},
   "outputs": [],
   "source": [
    "plus_one(21 * 2)"
   ]
  },
  {
   "cell_type": "markdown",
   "metadata": {},
   "source": [
    "And, there's no reason we can't call a function in that calculation.\n",
    "\n",
    "Let's say we have the following code:"
   ]
  },
  {
   "cell_type": "code",
   "execution_count": null,
   "metadata": {},
   "outputs": [],
   "source": [
    "temp = plus_one(100)\n",
    "\n",
    "plus_one(temp)"
   ]
  },
  {
   "cell_type": "markdown",
   "metadata": {},
   "source": [
    "We can achieve the same outcome in one line."
   ]
  },
  {
   "cell_type": "code",
   "execution_count": null,
   "metadata": {},
   "outputs": [],
   "source": [
    "plus_one(plus_one(100))"
   ]
  },
  {
   "cell_type": "markdown",
   "metadata": {},
   "source": [
    "First the inner-most function call is made `plus_one(100)` which evaluated to `101`.\n",
    "\n",
    "Then the call `plus_one(101)` is made, giving 102.\n",
    "\n",
    "Anything inside the `()`, whether it is a number, a variable, or a calculation and the result becomes the argument."
   ]
  },
  {
   "cell_type": "markdown",
   "metadata": {},
   "source": [
    "**(a)** Define a function called `times_two` which takes one argument and returns twice the value. For example `times_two(100)` return `200`."
   ]
  },
  {
   "cell_type": "code",
   "execution_count": null,
   "metadata": {},
   "outputs": [],
   "source": []
  },
  {
   "cell_type": "markdown",
   "metadata": {},
   "source": [
    "**(b)** Test your function below, by calling it with the argument `123`, you should get `246`, otherwise, you'll need to debug your code."
   ]
  },
  {
   "cell_type": "code",
   "execution_count": null,
   "metadata": {},
   "outputs": [],
   "source": []
  },
  {
   "cell_type": "markdown",
   "metadata": {},
   "source": [
    "Once your `times_two` function is working, run the code below to get `202`."
   ]
  },
  {
   "cell_type": "code",
   "execution_count": null,
   "metadata": {},
   "outputs": [],
   "source": [
    "x = 100\n",
    "y = plus_one(x)\n",
    "z = times_two(y)\n",
    "\n",
    "z"
   ]
  },
  {
   "cell_type": "markdown",
   "metadata": {},
   "source": [
    "**(c)** Eliminate the variables by rewriting the above program as a single line of code. You should still get an output cell showing `202`.\n",
    "\n",
    "Hint: if you get `201` you may have called them in the wrong order!"
   ]
  },
  {
   "cell_type": "code",
   "execution_count": null,
   "metadata": {},
   "outputs": [],
   "source": []
  },
  {
   "cell_type": "markdown",
   "metadata": {},
   "source": [
    "A function can have more than one argument.\n",
    "\n",
    "The `calculate_y` function below calculates the y-coordinate of a straight line, given the line's slope `m`, the x-coordinate `x`, and the line's y-intercept `c`. So there are three argument to the function."
   ]
  },
  {
   "cell_type": "code",
   "execution_count": null,
   "metadata": {},
   "outputs": [],
   "source": [
    "def calculate_y(m, x, c):\n",
    "    return m * x + c"
   ]
  },
  {
   "cell_type": "markdown",
   "metadata": {},
   "source": [
    "You call the function, separating the inputs with commas.\n",
    "\n",
    "Remember: if the comma `,` looks too much like a period `.` make sure you adjust your system so that you can see text clearly, zooming into the browser if needed. These two symbols have different meanings in Python."
   ]
  },
  {
   "cell_type": "code",
   "execution_count": null,
   "metadata": {},
   "outputs": [],
   "source": [
    "calculate_y(2, 7, -1)"
   ]
  },
  {
   "cell_type": "markdown",
   "metadata": {},
   "source": [
    "If you provide the wrong number of arguments, you will get an error!\n",
    "\n",
    "This code will give you an error called a **type error** because you tried to call a 3-argument function as if it were a 3-argument function."
   ]
  },
  {
   "cell_type": "code",
   "execution_count": null,
   "metadata": {},
   "outputs": [],
   "source": [
    "calculate_y(2, 7)"
   ]
  },
  {
   "cell_type": "markdown",
   "metadata": {},
   "source": [
    "**(d)** Define a function called `area` which returns the area of a rectangle with width `width` and height `height`, and define a function `perimeter` which returns the perimeter of a rectangle with width `width` and height `height`."
   ]
  },
  {
   "cell_type": "code",
   "execution_count": null,
   "metadata": {},
   "outputs": [],
   "source": []
  },
  {
   "cell_type": "code",
   "execution_count": null,
   "metadata": {},
   "outputs": [],
   "source": []
  },
  {
   "cell_type": "markdown",
   "metadata": {},
   "source": [
    "**(e)** Now test the function on a rectangle with width `15` and height `3`. You should get area of `45` and a perimeter of `36`."
   ]
  },
  {
   "cell_type": "code",
   "execution_count": null,
   "metadata": {},
   "outputs": [],
   "source": []
  },
  {
   "cell_type": "code",
   "execution_count": null,
   "metadata": {},
   "outputs": [],
   "source": []
  },
  {
   "cell_type": "markdown",
   "metadata": {},
   "source": [
    "## Pure vs Impure Functions\n",
    "\n",
    "A pure function is a function which can be replaced by the value of it's output, without affecting the program.\n",
    "\n",
    "As an example, take `plus_one(0.2)`. The `plus_one` function with argument `0.2` returns the value `1.2`."
   ]
  },
  {
   "cell_type": "code",
   "execution_count": null,
   "metadata": {},
   "outputs": [],
   "source": [
    "plus_one(0.2)"
   ]
  },
  {
   "cell_type": "markdown",
   "metadata": {},
   "source": [
    "We can say that `plus_one` is pure, because any program which contains `plus_one(0.2)` could have replaced this with it's values `1.2` without affecting the result of the program. And this is true for any argument.\n",
    "\n",
    "Here is a program which uses `plus_one(0.2)`:"
   ]
  },
  {
   "cell_type": "code",
   "execution_count": null,
   "metadata": {},
   "outputs": [],
   "source": [
    "x = 5\n",
    "y = plus_one(0.2)\n",
    "\n",
    "x + y"
   ]
  },
  {
   "cell_type": "markdown",
   "metadata": {},
   "source": [
    "And here is the same program with `1.2` instead:"
   ]
  },
  {
   "cell_type": "code",
   "execution_count": null,
   "metadata": {},
   "outputs": [],
   "source": [
    "x = 5\n",
    "y = 1.2\n",
    "\n",
    "x + y"
   ]
  },
  {
   "cell_type": "markdown",
   "metadata": {},
   "source": [
    "And any program which calls the function more than once with the same arguments could be replaced with one call."
   ]
  },
  {
   "cell_type": "code",
   "execution_count": null,
   "metadata": {},
   "outputs": [],
   "source": [
    "plus_one(0.2) + plus_one(0.2)"
   ]
  },
  {
   "cell_type": "markdown",
   "metadata": {},
   "source": [
    "Here is the same program without the redundant call:"
   ]
  },
  {
   "cell_type": "code",
   "execution_count": null,
   "metadata": {},
   "outputs": [],
   "source": [
    "x = plus_one(0.2)\n",
    "\n",
    "x + x"
   ]
  },
  {
   "cell_type": "markdown",
   "metadata": {},
   "source": [
    "Let's look at a more complex example:"
   ]
  },
  {
   "cell_type": "code",
   "execution_count": null,
   "metadata": {},
   "outputs": [],
   "source": [
    "calculate_y(1, 7, 2) + (calculate_y(4, 2, -1) + calculate_y(4, 2, -1)) // calculate_y(1, 7, 2)"
   ]
  },
  {
   "cell_type": "markdown",
   "metadata": {},
   "source": [
    "**(f)** Rewrite the program so that the `calculate_y` is never called twice with the same arguments. Don't eliminate calls altogether by hard-coding the value, though. Just eliminate the redundancy. Make sure you still get the answer `10`"
   ]
  },
  {
   "cell_type": "code",
   "execution_count": null,
   "metadata": {},
   "outputs": [],
   "source": []
  },
  {
   "cell_type": "markdown",
   "metadata": {},
   "source": [
    "You might assume this is true for all functions.\n",
    "\n",
    "It's true for all functions in mathematics, but not in computer programming.\n",
    "\n",
    "A function is not pure if it does any of the following:\n",
    "\n",
    "- produces output *(for example to a file / database / network / screen)*\n",
    "- reads input *(for example from a file / database / network / keyboard)*\n",
    "- behaves stochastically *(i.e. uses random number generation)*\n",
    "- reads or writes to global variables\n",
    "\n",
    "We won't look at reading input today, as that's for another unit. But we will look at the other three types of impure functions.\n",
    "\n",
    "## Impure Functions which Create Output\n",
    "\n",
    "Functions which produce output are impure.\n",
    "\n",
    "By \"output\" we don't mean return value. Pure functions can return values. In this context \"output\" means writing to standard output, files, databases, networks, etc.\n",
    "\n",
    "In this section we will look at the example of **standard output**. One of our favourite impure functions is `print`. We'll be using this a lot! Let's see what happens when we write `42` in a code cell and run it."
   ]
  },
  {
   "cell_type": "code",
   "execution_count": null,
   "metadata": {},
   "outputs": [],
   "source": [
    "42"
   ]
  },
  {
   "cell_type": "markdown",
   "metadata": {},
   "source": [
    "Now what about sending `42` as an argument to the `print` function?"
   ]
  },
  {
   "cell_type": "code",
   "execution_count": null,
   "metadata": {},
   "outputs": [],
   "source": [
    "print(42)"
   ]
  },
  {
   "cell_type": "markdown",
   "metadata": {},
   "source": [
    "Looks very, very similar, doesn't it?\n",
    "\n",
    "Actually, they are not the same.\n",
    "\n",
    "If you look at the output cell for the first example, it is numbered on the left, you'll see a number inside square brackets `[]` that matches the number on the input cell. This is a \"Jupyter output cell\", or \"interactive Python output cell\".\n",
    "\n",
    "If you look below `print(42)`, that does not have a numbering. This is actually **standard output**. This is a text message displayed to the user.\n",
    "\n",
    "Producing standard output is one way to be impure. Let's see why that might be.\n",
    "\n",
    "For any pure function, you can replace two or more calls, or example `f(x) + f(x)` with a single call.\n",
    "\n",
    "If the function is a pure function, this is **always** true.\n",
    "\n",
    "If the function is not a pure function, this is **sometimes** true, **sometimes** not.\n",
    "\n",
    "What happens if we make a new function called `impure_plus_one` which does some printing to standard output?"
   ]
  },
  {
   "cell_type": "code",
   "execution_count": null,
   "metadata": {},
   "outputs": [],
   "source": [
    "def impure_plus_one(x):\n",
    "    print('Hello ;)')\n",
    "    return x + 1"
   ]
  },
  {
   "cell_type": "markdown",
   "metadata": {},
   "source": [
    "Let's call it twice to get the answer 14."
   ]
  },
  {
   "cell_type": "code",
   "execution_count": null,
   "metadata": {},
   "outputs": [],
   "source": [
    "impure_plus_one(6) + impure_plus_one(6)"
   ]
  },
  {
   "cell_type": "markdown",
   "metadata": {},
   "source": [
    "Notice in this case we get a standard output of:\n",
    "\n",
    "    Hello ;)\n",
    "    Hello ;)\n",
    "\n",
    "and a Jupyter output cell of:\n",
    "\n",
    "    14\n",
    "\n",
    "Now let's change the program to save a step."
   ]
  },
  {
   "cell_type": "code",
   "execution_count": null,
   "metadata": {},
   "outputs": [],
   "source": [
    "x = impure_plus_one(6)\n",
    "\n",
    "x + x"
   ]
  },
  {
   "cell_type": "markdown",
   "metadata": {},
   "source": [
    "Notice we get a different number of `Hello ;)` messages printed. Even though we still get the answer 14, this is impure, because printed message was part of the behaviour of the function.\n",
    "\n",
    "## Impure Functions which Behave Stochastically (Randomly)\n",
    "\n",
    "Another way a function can be impure is if the result is random.\n",
    "\n",
    "Since we're working with random numbers, we'll need the `random` package. So let's import it once into our notebook.\n",
    "\n",
    "Conventionally, we would do this at the very top of our notebook, though, but it will still work here."
   ]
  },
  {
   "cell_type": "code",
   "execution_count": null,
   "metadata": {},
   "outputs": [],
   "source": [
    "import random"
   ]
  },
  {
   "cell_type": "markdown",
   "metadata": {},
   "source": [
    "The `randint` function, defined on the `random` package, takes two arguments, the minimum and maximum value we want to generate in between."
   ]
  },
  {
   "cell_type": "code",
   "execution_count": null,
   "metadata": {},
   "outputs": [],
   "source": [
    "random.randint(5, 9)"
   ]
  },
  {
   "cell_type": "markdown",
   "metadata": {},
   "source": [
    "That should generate one of the numbers 5, 6, 7, 8, or 9. Try running it a few times to check!\n",
    "\n",
    "If you are familiar with other programming languages, you should note that Python's `randint` function includes both end points, whereas with name programming languages, the upper bound is exclusive. If Python is your first programming language, then don't worry about this.\n",
    "\n",
    "Now, let's write a function `three_digits` which takes no argument, and returns a random three digit number. So this will be a number between 100 and 999."
   ]
  },
  {
   "cell_type": "code",
   "execution_count": null,
   "metadata": {},
   "outputs": [],
   "source": [
    "def three_digit():\n",
    "    return random.randint(100, 999)"
   ]
  },
  {
   "cell_type": "markdown",
   "metadata": {},
   "source": [
    "**(g)** Now, try to show that the `three_digit` function is not pure, by writing two programs which should give the same answer if the function were pure. Run them to show that the function is impure."
   ]
  },
  {
   "cell_type": "markdown",
   "metadata": {},
   "source": [
    "Program 1:"
   ]
  },
  {
   "cell_type": "code",
   "execution_count": null,
   "metadata": {},
   "outputs": [],
   "source": []
  },
  {
   "cell_type": "markdown",
   "metadata": {},
   "source": [
    "Program 2:"
   ]
  },
  {
   "cell_type": "code",
   "execution_count": null,
   "metadata": {},
   "outputs": [],
   "source": []
  },
  {
   "cell_type": "markdown",
   "metadata": {},
   "source": [
    "We can't replace `three_digit()` with it's value because, the value changed each time."
   ]
  },
  {
   "cell_type": "markdown",
   "metadata": {},
   "source": [
    "## Different Ways to Import\n",
    "\n",
    "There are different styles of importing functions.\n",
    "\n",
    "There is importing the package:\n",
    "\n",
    "    import random\n",
    "    \n",
    "    x = random.randint(1, 6)\n",
    "    \n",
    "This is probably the most common way to import. Note that we need to prefix each call with `random.` to tell Python which package to use.\n",
    "\n",
    "There is importing only the functions we need:\n",
    "    \n",
    "    from random import randint\n",
    "    \n",
    "    x = randint(1, 6)\n",
    "    \n",
    "This way we only import what we need, and don't need to prefix the package name each call. If we need to import multiple things, we can use commas:\n",
    "\n",
    "    from random import randint, shuffle, sample\n",
    "\n",
    "If there are are small number of things you need from the package, then this is common.\n",
    "\n",
    "And there is importing everything from the package (also called **star imports**):\n",
    "    \n",
    "    from random import *\n",
    "    \n",
    "    x = randint(1, 6)\n",
    "\n",
    "This may be used if you use a lot of things from a package and don't want to keep typing `random.`\n",
    "\n",
    "In general we recommend the standard import style: `import random`\n",
    "\n",
    "However, all of these are okay."
   ]
  },
  {
   "cell_type": "markdown",
   "metadata": {},
   "source": [
    "## Exploring Scope\n",
    "\n",
    "Here is a function which returns the square of its input.\n",
    "\n",
    "Run the cell to define the function."
   ]
  },
  {
   "cell_type": "code",
   "execution_count": null,
   "metadata": {},
   "outputs": [],
   "source": [
    "def square(number_to_square):\n",
    "    return number_to_square ** 2"
   ]
  },
  {
   "cell_type": "markdown",
   "metadata": {},
   "source": [
    "Now, we're going to call the function"
   ]
  },
  {
   "cell_type": "code",
   "execution_count": null,
   "metadata": {},
   "outputs": [],
   "source": [
    "square(3)"
   ]
  },
  {
   "cell_type": "markdown",
   "metadata": {},
   "source": [
    "Let's check something. In this example, we called the argument `number_to_square` and the argument was set to 3, and the calculation `3 ** 2` was carried out (giving the result of 9) and returned. So `square(3)` evaluated to 9, and this is the result we see in the output cell.\n",
    "\n",
    "But let's check the value of `number_to_square` and see if it is set to `3`?"
   ]
  },
  {
   "cell_type": "code",
   "execution_count": null,
   "metadata": {},
   "outputs": [],
   "source": [
    "number_to_square"
   ]
  },
  {
   "cell_type": "markdown",
   "metadata": {},
   "source": [
    "In fact, `number_to_square` is not defined. So you should see a name error here!\n",
    "\n",
    "There is no variable `number_to_square`, it was only defined locally within the function `square`.\n",
    "\n",
    "What happens if we set `number_to_square` to some other value, then call the function, and check the value of `number_to_square`?"
   ]
  },
  {
   "cell_type": "code",
   "execution_count": null,
   "metadata": {},
   "outputs": [],
   "source": [
    "number_to_square = 1000\n",
    "\n",
    "square(3)"
   ]
  },
  {
   "cell_type": "markdown",
   "metadata": {},
   "source": [
    "Same answer, now what is `number_to_square`?"
   ]
  },
  {
   "cell_type": "code",
   "execution_count": null,
   "metadata": {},
   "outputs": [],
   "source": [
    "number_to_square"
   ]
  },
  {
   "cell_type": "markdown",
   "metadata": {},
   "source": [
    "So were have two completely separate things called `number_to_square`.\n",
    "\n",
    "One is the global variable `number_to_square` which is equal to `1000`, and the other is the local argument `number_to_square` and is equal to `3`.\n",
    "\n",
    "Let's see what happens if we define another variable within the function.\n",
    "\n",
    "The `cube` function returns the cube of it's input."
   ]
  },
  {
   "cell_type": "code",
   "execution_count": null,
   "metadata": {},
   "outputs": [],
   "source": [
    "def cube(number_to_cube):\n",
    "    power = 3\n",
    "    return number_to_cube ** power"
   ]
  },
  {
   "cell_type": "markdown",
   "metadata": {},
   "source": [
    "Let's test it"
   ]
  },
  {
   "cell_type": "code",
   "execution_count": null,
   "metadata": {},
   "outputs": [],
   "source": [
    "cube(2)"
   ]
  },
  {
   "cell_type": "markdown",
   "metadata": {},
   "source": [
    "Now, what happens if we check the value of `power`?"
   ]
  },
  {
   "cell_type": "code",
   "execution_count": null,
   "metadata": {},
   "outputs": [],
   "source": [
    "power"
   ]
  },
  {
   "cell_type": "markdown",
   "metadata": {},
   "source": [
    "Not defined!"
   ]
  },
  {
   "cell_type": "markdown",
   "metadata": {},
   "source": [
    "What if we set a value of `power` before calling the function?"
   ]
  },
  {
   "cell_type": "code",
   "execution_count": null,
   "metadata": {},
   "outputs": [],
   "source": [
    "power = 1000\n",
    "\n",
    "cube(2)"
   ]
  },
  {
   "cell_type": "code",
   "execution_count": null,
   "metadata": {},
   "outputs": [],
   "source": [
    "power"
   ]
  },
  {
   "cell_type": "markdown",
   "metadata": {},
   "source": [
    "So we have two separate things called `power`, one is the global variable set to `1000`, and the other is a local variable inside the `cube` function set to `3`."
   ]
  },
  {
   "cell_type": "markdown",
   "metadata": {},
   "source": [
    "## Impure Functions which Read Global Variables\n",
    "\n",
    "We have seen two way a function can be impure:\n",
    "\n",
    "- writing output\n",
    "- random behaviour\n",
    "\n",
    "Another way a function can be impure is *reading or writing global variables*.\n",
    "\n",
    "Variables we define outside of a function are *'global variables'*."
   ]
  },
  {
   "cell_type": "code",
   "execution_count": null,
   "metadata": {},
   "outputs": [],
   "source": [
    "number = 100"
   ]
  },
  {
   "cell_type": "markdown",
   "metadata": {},
   "source": [
    "Functions can read from global variables. The function below bases its return value on the value of of `number` (a global variable)."
   ]
  },
  {
   "cell_type": "code",
   "execution_count": null,
   "metadata": {},
   "outputs": [],
   "source": [
    "def f(x):\n",
    "    return x + number\n",
    "\n",
    "f(2)"
   ]
  },
  {
   "cell_type": "markdown",
   "metadata": {},
   "source": [
    "Let's try calling `f(2)` twice."
   ]
  },
  {
   "cell_type": "code",
   "execution_count": null,
   "metadata": {},
   "outputs": [],
   "source": [
    "number = 100\n",
    "first = f(2)\n",
    "\n",
    "number = 100000\n",
    "\n",
    "print(first + f(2))"
   ]
  },
  {
   "cell_type": "markdown",
   "metadata": {},
   "source": [
    "Now let's this to use one call."
   ]
  },
  {
   "cell_type": "code",
   "execution_count": null,
   "metadata": {},
   "outputs": [],
   "source": [
    "number = 100\n",
    "first = f(2)\n",
    "\n",
    "number = 100000\n",
    "\n",
    "print(first + first)"
   ]
  },
  {
   "cell_type": "markdown",
   "metadata": {},
   "source": [
    "We can see that if we modify the global variable between each call, the result is different. This means `f(2)` cannot be replaced by its value, and is not pure.\n",
    "\n",
    "## Impure Functions which Modify Global Variables\n",
    "\n",
    "In the next example, we will modify a global variable.\n",
    "\n",
    "To modify a global variable from within a function, we need to warn Python that we're going to do so. To do this we use the `global` keyword inside the function. `global counter` means we are going to modify the global variable named `counter`."
   ]
  },
  {
   "cell_type": "code",
   "execution_count": null,
   "metadata": {},
   "outputs": [],
   "source": [
    "def impure_square(x):\n",
    "    global counter\n",
    "    counter += 1\n",
    "    return x ** 2"
   ]
  },
  {
   "cell_type": "markdown",
   "metadata": {},
   "source": [
    "Let's call the function and display the value of the result and the counter."
   ]
  },
  {
   "cell_type": "code",
   "execution_count": null,
   "metadata": {},
   "outputs": [],
   "source": [
    "counter = 0\n",
    "\n",
    "result = impure_square(2) + impure_square(2)\n",
    "\n",
    "print('result is', result)\n",
    "print('counter is', counter)"
   ]
  },
  {
   "cell_type": "markdown",
   "metadata": {},
   "source": [
    "Now, attempting to eliminate one of the calls."
   ]
  },
  {
   "cell_type": "code",
   "execution_count": null,
   "metadata": {},
   "outputs": [],
   "source": [
    "counter = 0\n",
    "\n",
    "temp = impure_square(2)\n",
    "result = temp + temp\n",
    "\n",
    "print('result is', result)\n",
    "print('counter is', counter)"
   ]
  },
  {
   "cell_type": "markdown",
   "metadata": {},
   "source": [
    "Notice that even though the result of `impure_square(2)` is always `4`, this does not means it is pure. This is because it has a **side effect** of modifying the variable `counter`, so `impure_square(2)` cannot be replaced with `4` without changing the behaviour of the program.\n",
    "\n",
    "## Debugging\n",
    "\n",
    "This program should define and the call a pure function to multiply by `4`, the argument is `4`. So we should get the result of `16`.\n",
    "\n",
    "However, we get nothing at all!"
   ]
  },
  {
   "cell_type": "code",
   "execution_count": null,
   "metadata": {},
   "outputs": [],
   "source": [
    "def times_four(x):\n",
    "    x * 4\n",
    "\n",
    "times_four(4)"
   ]
  },
  {
   "cell_type": "markdown",
   "metadata": {},
   "source": [
    "**(g)** The program has a mistake, debug the program."
   ]
  },
  {
   "cell_type": "code",
   "execution_count": null,
   "metadata": {},
   "outputs": [],
   "source": []
  },
  {
   "cell_type": "markdown",
   "metadata": {},
   "source": [
    "This program should define and call an impure function which rolls a 6-sided die, and prints the result to standard output.\n",
    "\n",
    "However, it gives us a type error!"
   ]
  },
  {
   "cell_type": "code",
   "execution_count": null,
   "metadata": {},
   "outputs": [],
   "source": [
    "import random\n",
    "\n",
    "def roll():\n",
    "    print('rolled', randint(6))\n",
    "\n",
    "roll()"
   ]
  },
  {
   "cell_type": "markdown",
   "metadata": {},
   "source": [
    "**(h)** The program has two mistakes, debug the program."
   ]
  },
  {
   "cell_type": "code",
   "execution_count": null,
   "metadata": {},
   "outputs": [],
   "source": []
  },
  {
   "cell_type": "markdown",
   "metadata": {},
   "source": [
    "We could have left off the `import` statement altogether because earlier in this Jupyter notebook we imported the `random` package already, so we don't need to do so again. But we have included the import here again in this example just to show the complete program.\n",
    "\n",
    "Typically you will have one cell at the start of your document which contains all of your imports.\n",
    "\n",
    "The next program is designed to count how many times each method was called, and print the result at the end. Run it to retest. It should count 2 runs for `add_one` and 3 for `add_two`.\n",
    "\n",
    "However, it says that the second function was called 5 times!"
   ]
  },
  {
   "cell_type": "code",
   "execution_count": null,
   "metadata": {},
   "outputs": [],
   "source": [
    "counter = 0\n",
    "def add_one(x):\n",
    "    global counter\n",
    "    counter += 1\n",
    "    return x + 1\n",
    "\n",
    "counter = 0\n",
    "def add_two(x):\n",
    "    global counter\n",
    "    counter += 1\n",
    "    return x + 2\n",
    "\n",
    "add_one(5)\n",
    "add_one(7)\n",
    "\n",
    "print('add_one was called', counter, 'times')\n",
    "\n",
    "add_two(5)\n",
    "add_two(7)\n",
    "add_two(16)\n",
    "\n",
    "print('add_two was called', counter, 'times')"
   ]
  },
  {
   "cell_type": "markdown",
   "metadata": {},
   "source": [
    "**(i)** The program has a mistake, debug the program."
   ]
  },
  {
   "cell_type": "code",
   "execution_count": null,
   "metadata": {},
   "outputs": [],
   "source": []
  },
  {
   "cell_type": "markdown",
   "metadata": {},
   "source": [
    "## Built-in Functions and Rounding\n",
    "\n",
    "Let's look at an example of a built-in function.\n",
    "\n",
    "In last week's lab we saw that there are rounding errors in some calculations with floating point numbers."
   ]
  },
  {
   "cell_type": "code",
   "execution_count": null,
   "metadata": {},
   "outputs": [],
   "source": [
    "initial_balance = 0.1\n",
    "deposit = 0.2\n",
    "\n",
    "initial_balance + deposit"
   ]
  },
  {
   "cell_type": "markdown",
   "metadata": {},
   "source": [
    "If we want to remove the rounding error in this monetary calculation, we can use the round function and specify 2 decimal places using the `round` function.\n",
    "\n",
    "This is one of the built-in Python functions. We don't need to use an `import` statement to use it."
   ]
  },
  {
   "cell_type": "code",
   "execution_count": null,
   "metadata": {},
   "outputs": [],
   "source": [
    "initial_balance = 0.1\n",
    "deposit = 0.2\n",
    "\n",
    "round(initial_balance + deposit, 2)"
   ]
  },
  {
   "cell_type": "markdown",
   "metadata": {},
   "source": [
    "Notice however, that Python displays 1 decimal place, not two. This is because `0.3` rounded to 2 decimal places (`0.30`) is the same as `0.3`. If we had more **non-zero** decimals, we would have seen more decimals on the result."
   ]
  },
  {
   "cell_type": "code",
   "execution_count": null,
   "metadata": {},
   "outputs": [],
   "source": [
    "round(0.123456789, 2)"
   ]
  },
  {
   "cell_type": "markdown",
   "metadata": {},
   "source": [
    "Python doesn't display these trailing zeros (except the first).\n",
    "\n",
    "In a later lab, we will deal with strings of text, and displaying messages to the user. Then, we can show numbers with the exact number of trailing zeros we want.\n",
    "\n",
    "We will also encounter many more built-in functions, but most of the interesting built-in functions in Python will require us to learn about collections of data, and so will be seen in Block 2 of this module."
   ]
  }
 ],
 "metadata": {
  "kernelspec": {
   "display_name": "Python 3 (ipykernel)",
   "language": "python",
   "name": "python3"
  },
  "language_info": {
   "codemirror_mode": {
    "name": "ipython",
    "version": 3
   },
   "file_extension": ".py",
   "mimetype": "text/x-python",
   "name": "python",
   "nbconvert_exporter": "python",
   "pygments_lexer": "ipython3",
   "version": "3.9.10"
  }
 },
 "nbformat": 4,
 "nbformat_minor": 4
}
