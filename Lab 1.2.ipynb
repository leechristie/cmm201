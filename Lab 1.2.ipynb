{
 "cells": [
  {
   "cell_type": "markdown",
   "metadata": {},
   "source": [
    "*Edited: 10th September 2023*"
   ]
  },
  {
   "cell_type": "markdown",
   "metadata": {},
   "source": [
    "# CMM201 &mdash; Lab 1.2\n",
    "\n",
    "In this lab we will learn about using mathematical operators in Python and assigning variables.\n",
    "\n",
    "It is very important to master operators and assignment as we will be introducing more operators in upcoming weeks."
   ]
  },
  {
   "cell_type": "markdown",
   "source": [
    "## Operator Precedence\n",
    "\n",
    "Looking at operator precedence.\n",
    "\n",
    "Let's take an example:\n",
    "\n",
    "*First divide 9 by 3. Then subtract the result from 10.*\n",
    "\n",
    "We could do this in multiple steps as follows, using a variable (we'll talk about variable in more detail soon).\n",
    "\n",
    "First we will divide 9 by 3, using the integer division operator `//`. This will only work correctly if the numbers divide evenly, but we know they do in this case.\n",
    "\n",
    "Next we take the calculated value and subtract it from 10.\n",
    "\n",
    "The result of the last line will be displayed to a new output cell."
   ],
   "metadata": {
    "collapsed": false
   }
  },
  {
   "cell_type": "code",
   "execution_count": null,
   "metadata": {},
   "outputs": [],
   "source": [
    "x = 9 // 3\n",
    "\n",
    "10 - x"
   ]
  },
  {
   "cell_type": "markdown",
   "metadata": {},
   "source": [
    "The result is 7. Run the cell to make sure.\n",
    "\n",
    "However, such as simple calculation would be clear enough to the reader of our code in a single line.\n",
    "\n",
    "Let's replace `x` in the second line with the calculation from the previous line."
   ]
  },
  {
   "cell_type": "code",
   "execution_count": null,
   "metadata": {},
   "outputs": [],
   "source": [
    "10 - (9 // 3)"
   ]
  },
  {
   "cell_type": "markdown",
   "metadata": {},
   "source": [
    "Same result.\n",
    "\n",
    "However, because `//` has higher precedence than `-`, we don't really need the brackets. You could leave them there if you feel that it makes the code clearer. But let's remove the brackets anyway."
   ]
  },
  {
   "cell_type": "code",
   "execution_count": null,
   "metadata": {},
   "outputs": [],
   "source": [
    "10 - 9 // 3"
   ]
  },
  {
   "cell_type": "markdown",
   "metadata": {},
   "source": [
    "Note that we have used integer division `//` instead of true division `/`. This is because we know that 3 divides evenly in to 9.\n",
    "\n",
    "If we change it to true division, we get the same answer, but represented as a decimal."
   ]
  },
  {
   "cell_type": "code",
   "execution_count": null,
   "metadata": {},
   "outputs": [],
   "source": [
    "10 - 9 / 3"
   ]
  },
  {
   "cell_type": "markdown",
   "metadata": {},
   "source": [
    "However, if we were working with number which didn't divide evenly, say 9 divided by 2, or if we were working with data read from user input or from a data set where we didn't know it was going to divide evenly, we should probably use true division."
   ]
  },
  {
   "cell_type": "code",
   "execution_count": null,
   "metadata": {},
   "outputs": [],
   "source": [
    "10 - 9 / 2"
   ]
  },
  {
   "cell_type": "markdown",
   "metadata": {},
   "source": [
    "Because using integer division, we would lose precision"
   ]
  },
  {
   "cell_type": "code",
   "execution_count": null,
   "metadata": {},
   "outputs": [],
   "source": [
    "10 - 9 // 2"
   ]
  },
  {
   "cell_type": "markdown",
   "metadata": {},
   "source": [
    "The answer should be 5.5, but we get 6, which is incorrect. That's because `9 // 2` rounds down to 4. And so we are evaluating `10 - 4` which is 6.\n",
    "\n",
    "Now try some calculations, do these each in a **single line** rather than using two steps in the example above with `x`.\n",
    "\n",
    "**(a)** First add 3 to 2, then add 6 to the result. *(The answer is 11)*"
   ]
  },
  {
   "cell_type": "code",
   "execution_count": null,
   "metadata": {},
   "outputs": [],
   "source": []
  },
  {
   "cell_type": "markdown",
   "metadata": {},
   "source": [
    "**(b)** First divide 13 by 2, then divide the result by 5 (the answer is 1.3)"
   ]
  },
  {
   "cell_type": "code",
   "execution_count": null,
   "metadata": {},
   "outputs": [],
   "source": []
  },
  {
   "cell_type": "markdown",
   "metadata": {},
   "source": [
    "**(c)** First divide 13 by 2, then divide 5 by the result. (the answer is approximately 0.769...)"
   ]
  },
  {
   "cell_type": "code",
   "execution_count": null,
   "metadata": {},
   "outputs": [],
   "source": []
  },
  {
   "cell_type": "markdown",
   "metadata": {},
   "source": [
    "Below is a calculation which is done using multiple lines.\n",
    "\n",
    "Note that the answer is 1000."
   ]
  },
  {
   "cell_type": "code",
   "execution_count": null,
   "metadata": {},
   "outputs": [],
   "source": [
    "a = 80 - 6\n",
    "b = a // 7\n",
    "c = 2 + 1\n",
    "\n",
    "b ** c"
   ]
  },
  {
   "cell_type": "markdown",
   "metadata": {},
   "source": [
    "**(d)** Convert it to a single line of code, and ensure you get the same answer."
   ]
  },
  {
   "cell_type": "code",
   "execution_count": null,
   "metadata": {},
   "outputs": [],
   "source": []
  },
  {
   "cell_type": "markdown",
   "metadata": {},
   "source": [
    "Let's say the first line were changed to `a = 80 * 6`, as follows:"
   ]
  },
  {
   "cell_type": "code",
   "execution_count": null,
   "metadata": {},
   "outputs": [],
   "source": [
    "a = 80 * 6\n",
    "b = a // 7\n",
    "c = 2 + 1\n",
    "\n",
    "b ** c"
   ]
  },
  {
   "cell_type": "markdown",
   "metadata": {},
   "source": [
    "**(e)** Now, convert this to a single line again."
   ]
  },
  {
   "cell_type": "code",
   "execution_count": null,
   "metadata": {},
   "outputs": [],
   "source": []
  },
  {
   "cell_type": "markdown",
   "metadata": {},
   "source": [
    "**(f)** Did you need the same number of brackets as in question (d)? If not, why not?\n",
    "\n",
    "*The cell below is just a raw text cell for you to type your answer.*"
   ]
  },
  {
   "cell_type": "raw",
   "metadata": {},
   "source": []
  },
  {
   "cell_type": "markdown",
   "metadata": {},
   "source": [
    "## Defining Variables\n",
    "\n",
    "In the above examples, we use a few variables. Let's go over how we define and redefine variables. We may say \"assigning\" and \"reassigning\". The way we manipulate the state of our program is by define or redefine variables. In the second block, we will see another way. but this is the most common way.\n",
    "\n",
    "**Note for programmers:** You may have used another programming language such as C/C++/Java/Swift or any other language which draws a clear distinction between declaring a variable and then initializing it and reassigning it. We won't really draw this distinction in this module because Python uses a concept called \"name binding\" which works a little differently to traditional languages.\n",
    "\n",
    "We define variables using the `=` (assignment) operator.\n",
    "\n",
    "Run this cell to define `x` to be equal to `10`."
   ]
  },
  {
   "cell_type": "code",
   "execution_count": null,
   "metadata": {},
   "outputs": [],
   "source": [
    "x = 10"
   ]
  },
  {
   "cell_type": "markdown",
   "metadata": {},
   "source": [
    "We can read the value of a variable in Jupyter to typing its name on a line and running the cell."
   ]
  },
  {
   "cell_type": "code",
   "execution_count": null,
   "metadata": {},
   "outputs": [],
   "source": [
    "x"
   ]
  },
  {
   "cell_type": "markdown",
   "metadata": {},
   "source": [
    "Sometimes we will do all of this in a single cell.\n",
    "\n",
    "The value which is output is the **final** line of the program.\n",
    "\n",
    "As a convention, and to make things easier to read, we will often put a blank line before the last line, but this is **not** required, it's just to make it clear to the reader of our code that we intend the last line to be the expression which is output."
   ]
  },
  {
   "cell_type": "code",
   "execution_count": null,
   "metadata": {},
   "outputs": [],
   "source": [
    "y = 50\n",
    "\n",
    "y"
   ]
  },
  {
   "cell_type": "markdown",
   "metadata": {},
   "source": [
    "We can also change our program by using the same assignment operator."
   ]
  },
  {
   "cell_type": "code",
   "execution_count": null,
   "metadata": {},
   "outputs": [],
   "source": [
    "y = 60\n",
    "\n",
    "y"
   ]
  },
  {
   "cell_type": "markdown",
   "metadata": {},
   "source": [
    "Python will remember the most recently run value, as this overwrites the previous.\n",
    "\n",
    "So now we have `x` set to `10`, and we have `y` set to `60`.\n",
    "\n",
    "Python has forgotten all about assignment `y = 50` now.\n",
    "\n",
    "And yes, we can assign a variable and reassign it in the same cell."
   ]
  },
  {
   "cell_type": "code",
   "execution_count": null,
   "metadata": {},
   "outputs": [],
   "source": [
    "w = 10\n",
    "w = 50\n",
    "\n",
    "w"
   ]
  },
  {
   "cell_type": "markdown",
   "metadata": {},
   "source": [
    "In that program, the value of `10` wasn't used for anything because it was forgotten in the very next line. Such programs are probably not a good thing to write, because to a reader of your code, it looks like a mistake! A line of code such as `w = 10` is sometimes called **dead code** because it does nothing, and we can refactor the program by just deleting the line of dead code.\n",
    "\n",
    "**(g)** To practice, just set the value of `z` to `1000` and display the value in an output cell."
   ]
  },
  {
   "cell_type": "code",
   "execution_count": null,
   "metadata": {},
   "outputs": [],
   "source": []
  },
  {
   "cell_type": "markdown",
   "metadata": {},
   "source": [
    "## Increment, Decrement, etc.\n",
    "\n",
    "A very common thing to do is to change a variable relative to its current value.\n",
    "\n",
    "Let's increase `x` by one.\n",
    "\n",
    "The new value we want is one more than the current value of `x`, so the value was want is equal to the value of the expression `x + 1`, put this on the right-hand side."
   ]
  },
  {
   "cell_type": "code",
   "execution_count": null,
   "metadata": {},
   "outputs": [],
   "source": [
    "x = x + 1\n",
    "\n",
    "x"
   ]
  },
  {
   "cell_type": "markdown",
   "metadata": {},
   "source": [
    "Try running the above cell multiple times, can you guess what happens?\n",
    "\n",
    "What happens when we re-run the `x = x + 1` cell multiple times?"
   ]
  },
  {
   "cell_type": "markdown",
   "metadata": {},
   "source": [
    "It's generally not a great idea to re-run cells more than once, or out of sequence.\n",
    "\n",
    "Why?\n",
    "\n",
    "Python doesn't seem to care... well, let's say you re-run cells, then give the Jupyter notebook to someone else to run. When they run the notebook, they will (probably) only run each cell once, in order, top-to-bottom. So they may end up with a different result to the one you ended up with.\n",
    "\n",
    "We want our notebooks to be reproducible, meaning that each time a different person runs the notebook, they get the expected outcome, it shouldn't depend on the person knowing to run a particular cell multiple times, or knowing that you need to run some cells out of sequence.\n",
    "\n",
    "So design your notebook with the intention of it running correctly when each cell is run just once."
   ]
  },
  {
   "cell_type": "markdown",
   "metadata": {},
   "source": [
    "There are some other reassignment operators you will see sometimes.\n",
    "\n",
    "`x += 1` means `x = x + 1`\n",
    "\n",
    "`x *= 2` means `x = x * 2`\n",
    "\n",
    "and so on, for the other arithmetic operators. This exists because these types of calculations are so common, it is good to have a shorter syntax for them. But the outcome is the same, it really doesn't matter if you decide to use them or not, but perhaps if you were using longer variable names it would reduce clutter if your code.\n",
    "\n",
    "Compare for human readability:\n",
    "\n",
    "    current_balance = current_balance + deposit\n",
    "\n",
    "verses\n",
    "\n",
    "    current_balance += deposit"
   ]
  },
  {
   "cell_type": "markdown",
   "metadata": {},
   "source": [
    "**(h)** Set the variable `a` to `100`, then increase it by `2` using the `+=` operator, then display the value of `a` in an output cell. *(You should get `102`)*"
   ]
  },
  {
   "cell_type": "code",
   "execution_count": null,
   "metadata": {},
   "outputs": [],
   "source": []
  },
  {
   "cell_type": "markdown",
   "metadata": {},
   "source": [
    "**(i)** Set the variable `b` to `2`, then raise it to the power of `8` using the `**=` operator, then display the new value in an output cell. *(You should get `256`)*"
   ]
  },
  {
   "cell_type": "code",
   "execution_count": null,
   "metadata": {},
   "outputs": [],
   "source": []
  },
  {
   "cell_type": "markdown",
   "metadata": {},
   "source": [
    "**(j)** Set the variable `x` to `5`, `y` to `10`, then increase `x` by an amount equal to `y`, then display the value of `x` in an output cell. *(You should get `15`)*"
   ]
  },
  {
   "cell_type": "code",
   "execution_count": null,
   "metadata": {},
   "outputs": [],
   "source": []
  },
  {
   "cell_type": "markdown",
   "metadata": {},
   "source": [
    "## Variable Names"
   ]
  },
  {
   "cell_type": "markdown",
   "metadata": {},
   "source": [
    "Valid variable names are a sequence of letters (lower case and upper case), digits, and underscores.\n",
    "\n",
    "We cannot begin a variable with a digit!\n",
    "\n",
    "This will not work, we'll get a syntax error:"
   ]
  },
  {
   "cell_type": "code",
   "execution_count": null,
   "metadata": {},
   "outputs": [],
   "source": [
    "3x = 5"
   ]
  },
  {
   "cell_type": "markdown",
   "metadata": {},
   "source": [
    "One of the reasons for this is that in programming, sometimes we use a symbol like `0x0` to represent numbers in a different base.\n",
    "\n",
    "For example, `0x2a` means `42` is base-16 (which is 2A).\n",
    "\n",
    "Numbers in other bases systems won't be used in the module. This is just an explanation of why you're not allowed to begin a variable name with a digit."
   ]
  },
  {
   "cell_type": "code",
   "execution_count": null,
   "metadata": {},
   "outputs": [],
   "source": [
    "value = 0x2a\n",
    "\n",
    "value"
   ]
  },
  {
   "cell_type": "markdown",
   "metadata": {},
   "source": [
    "We can begin a variable with an underscore. This is valid:"
   ]
  },
  {
   "cell_type": "code",
   "execution_count": null,
   "metadata": {},
   "outputs": [],
   "source": [
    "_hello = 100\n",
    "\n",
    "_hello"
   ]
  },
  {
   "cell_type": "markdown",
   "metadata": {},
   "source": [
    "So is this:"
   ]
  },
  {
   "cell_type": "code",
   "execution_count": null,
   "metadata": {},
   "outputs": [],
   "source": [
    "__hello = 100\n",
    "\n",
    "__hello"
   ]
  },
  {
   "cell_type": "markdown",
   "metadata": {},
   "source": [
    "And this:"
   ]
  },
  {
   "cell_type": "code",
   "execution_count": null,
   "metadata": {},
   "outputs": [],
   "source": [
    "_3hello = 100\n",
    "\n",
    "_3hello"
   ]
  },
  {
   "cell_type": "markdown",
   "metadata": {},
   "source": [
    "However, it is recommended that you not begin variable names with an underscore.\n",
    "\n",
    "Among programmers there is a convention that symbols beginning with a one or two underscores have a special meaning, and you will confuse some readers of your code.\n",
    "\n",
    "The same rules for naming variables also apply to naming functions. Functions will be the subject of Unit 1.3.\n",
    "\n",
    "When a variable is described with multiple words, use underscores, and try to stay with lowercase, as this is a Python convention. e.g.\n",
    "\n",
    "    current_balance\n",
    "\n",
    "**Note to programmers:** Try not to use other conventions borrowed from other languages e.g. `currentBalance` as this not conventional Python style."
   ]
  },
  {
   "cell_type": "markdown",
   "metadata": {},
   "source": [
    "## Renaming Refactoring\n",
    "\n",
    "It is important to choose variables which clearly communicate your intentions to the reader of your code."
   ]
  },
  {
   "cell_type": "markdown",
   "metadata": {},
   "source": [
    "The code below calculates how much balance there will be remaining after a purchase of the **number of items** of `42` units of a product with **cost** `£3.11` with a given initial **balance**, then displays the final balance in an output cell.\n",
    "\n",
    "Run the program to test it; it should give the answer `15359.38`."
   ]
  },
  {
   "cell_type": "code",
   "execution_count": null,
   "metadata": {},
   "outputs": [],
   "source": [
    "c = 3.11\n",
    "n = 42\n",
    "b = 15490\n",
    "\n",
    "b -= c * n\n",
    "\n",
    "b"
   ]
  },
  {
   "cell_type": "markdown",
   "metadata": {},
   "source": [
    "**(k)** Perform a refactoring by renaming the variables in this program so that it clearly communicates what the program is doing. Make sure you don't change the behaviour of the program. Refactoring does not change the behaviour of a program. You can write the new version below, or modify it above."
   ]
  },
  {
   "cell_type": "code",
   "execution_count": null,
   "metadata": {},
   "outputs": [],
   "source": []
  },
  {
   "cell_type": "markdown",
   "metadata": {},
   "source": [
    "## Debugging\n",
    "\n",
    "Debugging is the process of finding (and fixing) bugs (mistakes) in a computer program.\n",
    "\n",
    "The following program is supposed to calculate the amount of particles remaining in a radioactive decay.\n",
    "\n",
    "The formula is to start with the **initial quantity**, then multiply it by the following: one half raised to the power of the following fraction:\n",
    "\n",
    "**time** divided by **half life**\n",
    "\n",
    "Here is the expression as a mathematical formula:\n",
    "\n",
    "$remaining=initial\\times0.5^{\\frac{time}{halflife}}$\n",
    "\n",
    "Run the program to test it. The answer is `31.25`."
   ]
  },
  {
   "cell_type": "code",
   "execution_count": null,
   "metadata": {},
   "outputs": [],
   "source": [
    "initial = 1000\n",
    "time = 50\n",
    "halflife = 10\n",
    "\n",
    "remaining = initial * 0.5 ** time / halflife\n",
    "\n",
    "remaining"
   ]
  },
  {
   "cell_type": "markdown",
   "metadata": {},
   "source": [
    "**(l)** Oops, the program contains a mistake. We get the wrong number. Can you find the mistake?"
   ]
  },
  {
   "cell_type": "code",
   "execution_count": null,
   "metadata": {},
   "outputs": [],
   "source": []
  },
  {
   "cell_type": "markdown",
   "metadata": {},
   "source": [
    "## Decimals and Precision\n",
    "\n",
    "In some examples this week, we used values such as `3.11` to represent a sum of money, and the program seems to work just fine. But it is important to know that this is not always the case.\n",
    "\n",
    "In later units, we will talk about '*types*' in Python. But you should know what when you represent decimal values like this in Python (and most other programming languages in fact), you are using a type of number called a '*floating-point*' number.\n",
    "\n",
    "Let's see an example of where floating-point numbers go wrong."
   ]
  },
  {
   "cell_type": "code",
   "execution_count": null,
   "metadata": {},
   "outputs": [],
   "source": [
    "initial_balance = 0.1\n",
    "deposit = 0.2\n",
    "\n",
    "initial_balance + deposit"
   ]
  },
  {
   "cell_type": "markdown",
   "metadata": {},
   "source": [
    "In this case, although floating-point numbers have values for `0.1`, `0.2`, and `0.3`, something goes wrong when adding `0.1` to `0.2`. This is because the computer is bad at counting decimal (base-10) numbers this way.\n",
    "\n",
    "In later units, we will talk about rounding off values, and rounding for display, which should be sufficient for our purposed.\n",
    "\n",
    "But if you are every building a program which deals extensively with monetary calculation and these kind of precision errors are a problem, there are alternatives such as the Python `Decimal` type, or storing numbers of pennies as integers. These are both approaches taken by commercial software involving monetary calculations. Calculations on an integer numbers of pennies are exact. And types such as `Decimal` are abstractions which will calculate with integers but display as decimal values."
   ]
  }
 ],
 "metadata": {
  "kernelspec": {
   "display_name": "Python 3 (ipykernel)",
   "language": "python",
   "name": "python3"
  },
  "language_info": {
   "codemirror_mode": {
    "name": "ipython",
    "version": 3
   },
   "file_extension": ".py",
   "mimetype": "text/x-python",
   "name": "python",
   "nbconvert_exporter": "python",
   "pygments_lexer": "ipython3",
   "version": "3.9.10"
  }
 },
 "nbformat": 4,
 "nbformat_minor": 4
}
