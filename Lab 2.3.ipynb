{
 "cells": [
  {
   "cell_type": "markdown",
   "metadata": {},
   "source": [
    "*Edited: 2022-09-13*"
   ]
  },
  {
   "cell_type": "markdown",
   "metadata": {},
   "source": [
    "# CMM201 &mdash; Lab 2.3\n",
    "\n",
    "This week we start using the Pandas library for managing data.\n",
    "\n",
    "The Pandas library is used with tabular data, and allows us to easily and conveniently load structured datasets, such as CSV files without having to manually parse the file the way we would with a messier data file.\n",
    "\n",
    "## Importing Pandas\n",
    "\n",
    "When we use Pandas, we the first thing we will need to do is import the Pandas library. We only need to do this once, and usually we will do this at the very top of our notebook.\n",
    "\n",
    "It is conventional to import Pandas not as the default `pandas` but as `pd`. You will see this in many text books and tutorials."
   ]
  },
  {
   "cell_type": "code",
   "execution_count": null,
   "metadata": {},
   "outputs": [],
   "source": [
    "import pandas as pd"
   ]
  },
  {
   "cell_type": "markdown",
   "metadata": {},
   "source": [
    "## Reading CSV Files\n",
    "\n",
    "Now that we have imported the library, we can create data frames. As you saw in the lesson videos, we can create a data frame using the data frame constructor.\n",
    "\n",
    "However, it is far more common to load data from a file, so that is how we will load our data in this lab.\n",
    "\n",
    "First we will load the dataset `dogs.csv`.\n",
    "\n",
    "To display the dataset we justed loaded, we will write the variable name on a new line."
   ]
  },
  {
   "cell_type": "code",
   "execution_count": null,
   "metadata": {},
   "outputs": [],
   "source": [
    "df = pd.read_csv('dogs.csv')\n",
    "\n",
    "df"
   ]
  },
  {
   "cell_type": "markdown",
   "metadata": {},
   "source": [
    "**(a)** Using what we covered in the lesson videos, set the index column to be `Breed Name`.\n",
    "\n",
    "**Hint:** There is more than one way to do this, choose which you prefer."
   ]
  },
  {
   "cell_type": "code",
   "execution_count": null,
   "metadata": {},
   "outputs": [],
   "source": []
  },
  {
   "cell_type": "markdown",
   "metadata": {},
   "source": [
    "Now to test that it has worked, run the line of code below.\n",
    "\n",
    "If you see the string `Breed Name` then you have correctly set the index. If there is nothing printed, then you have not correctly set the index."
   ]
  },
  {
   "cell_type": "code",
   "execution_count": null,
   "metadata": {},
   "outputs": [],
   "source": [
    "df.index.name"
   ]
  },
  {
   "cell_type": "markdown",
   "metadata": {},
   "source": [
    "## Columns\n",
    "\n",
    "To select a particular column, we use square brackets. `[]`.\n",
    "\n",
    "For example, we can select the column `Weight (kg)` as follows."
   ]
  },
  {
   "cell_type": "code",
   "execution_count": null,
   "metadata": {},
   "outputs": [],
   "source": [
    "df['Weight (kg)']"
   ]
  },
  {
   "cell_type": "markdown",
   "metadata": {},
   "source": [
    "When we want to know the data type of a column, we won't check as follows:"
   ]
  },
  {
   "cell_type": "code",
   "execution_count": null,
   "metadata": {},
   "outputs": [],
   "source": [
    "type(df['Weight (kg)'])"
   ]
  },
  {
   "cell_type": "markdown",
   "metadata": {},
   "source": [
    "because, this won't tell us the type of data. This will tell us the type of object we are looking at, which is always a Pandas `Series` object. \n",
    "\n",
    "Instead, we can check the data type of the elements with `.dtype`."
   ]
  },
  {
   "cell_type": "code",
   "execution_count": null,
   "metadata": {},
   "outputs": [],
   "source": [
    "df['Weight (kg)'].dtype"
   ]
  },
  {
   "cell_type": "markdown",
   "metadata": {},
   "source": [
    "This column is a homogeneous collection. The column itself is a `Series` but the elements within the column are of type `float64`.\n",
    "\n",
    "Try not to get confused between the type of the collection and the type of the elements.\n",
    "\n",
    "**(b)** What type are the elements in the column `UK Registrations`?"
   ]
  },
  {
   "cell_type": "code",
   "execution_count": null,
   "metadata": {},
   "outputs": [],
   "source": []
  },
  {
   "cell_type": "raw",
   "metadata": {},
   "source": [
    "type your answer here"
   ]
  },
  {
   "cell_type": "markdown",
   "metadata": {},
   "source": [
    "There is another column, `Origin`, which contains strings (`str`)."
   ]
  },
  {
   "cell_type": "code",
   "execution_count": null,
   "metadata": {},
   "outputs": [],
   "source": [
    "df['Origin'].dtype"
   ]
  },
  {
   "cell_type": "markdown",
   "metadata": {},
   "source": [
    "In Pandas, there is no homogeneous `Series` for strings. When a column contains strings, the data type is reported as `O` which stands for `object`. This means this particular `Series` is heterogeneous, it can contain **any** type."
   ]
  },
  {
   "cell_type": "markdown",
   "metadata": {},
   "source": [
    "Other than `object`, `int64`, `float64`, there are a few more types of `Series`, such as those for storing date/times. But these are the only three we will cover in CMM201 as they are the most common."
   ]
  },
  {
   "cell_type": "markdown",
   "metadata": {},
   "source": [
    "## Renaming Columns\n",
    "\n",
    "To rename a column we use the `.rename` method, specifying a named argument contains a `dict` which maps old names to new names. The `dict` only needs to contain those column we wish to rename. Any column we want to leave as-is do not need to be included in the `dict`. The `.rename` method by default is non-mutating, but also support the `inplace` option.\n",
    "\n",
    "**(c)** Change the name of the column `Origin` in `df` to `Country of Origin`. You can choose to use either variable reassignment, or mutation."
   ]
  },
  {
   "cell_type": "code",
   "execution_count": null,
   "metadata": {},
   "outputs": [],
   "source": []
  },
  {
   "cell_type": "markdown",
   "metadata": {},
   "source": [
    "To test that the rename was successful, run this code. It will display `True` if you renamed the column, or `False` otherwise."
   ]
  },
  {
   "cell_type": "code",
   "execution_count": null,
   "metadata": {},
   "outputs": [],
   "source": [
    "'Country of Origin' in df"
   ]
  },
  {
   "cell_type": "markdown",
   "metadata": {},
   "source": [
    "## Desciptive Statistics\n",
    "\n",
    "Something which is useful for working with data frames is to get descriptive statistics such as mean and standard deviation.\n",
    "\n",
    "We do this with the `.describe()` method, which returns a new data frame summarising the data."
   ]
  },
  {
   "cell_type": "code",
   "execution_count": null,
   "metadata": {},
   "outputs": [],
   "source": [
    "df.describe()"
   ]
  },
  {
   "cell_type": "markdown",
   "metadata": {},
   "source": [
    "We can also get specific statistics using methods on a `DataFrame`."
   ]
  },
  {
   "cell_type": "code",
   "execution_count": null,
   "metadata": {},
   "outputs": [],
   "source": [
    "df.count()"
   ]
  },
  {
   "cell_type": "code",
   "execution_count": null,
   "metadata": {},
   "outputs": [],
   "source": [
    "df.sum()"
   ]
  },
  {
   "cell_type": "markdown",
   "metadata": {},
   "source": [
    "Or on a `Series` to get the statistic for a particular column."
   ]
  },
  {
   "cell_type": "code",
   "execution_count": null,
   "metadata": {},
   "outputs": [],
   "source": [
    "df['Weight (kg)'].sum()"
   ]
  },
  {
   "cell_type": "markdown",
   "metadata": {},
   "source": [
    "You might notice that the column `Weight (kg)` (which is a float64 typed column) contains some missing data. These are indicated by `NaN`, which stands for 'not a number'."
   ]
  },
  {
   "cell_type": "code",
   "execution_count": null,
   "metadata": {},
   "outputs": [],
   "source": [
    "df['Weight (kg)']"
   ]
  },
  {
   "cell_type": "markdown",
   "metadata": {},
   "source": [
    "`NaN` is often used as a placeholder in floating-point columns. Since object columns can contain any type, `NaN` can be present in an object column to indicate a missing value is a column of strings."
   ]
  },
  {
   "cell_type": "markdown",
   "metadata": {},
   "source": [
    "Above, hopefully you will see what happens if you try to add `NaN` to an `int64` series.\n",
    "\n",
    "Actually, if you ever load a dataset from CSV which contains a `NaN`. You will find that Pandas treats the column as a `float64` column. This means that even if all of the numbers are integers, they will have `.0` at the end because they will be stored as `float64`."
   ]
  },
  {
   "cell_type": "markdown",
   "metadata": {},
   "source": [
    "## Selecting Rows\n",
    "\n",
    "If we want to select a subset of a data frame by rows, there are two different way of indexing rows.\n",
    "\n",
    "With `list` and `tuple`, we indexed items using square brackets to select a single item, e.g. `my_list[3]` or a slice of several values e.g. `my_list[3:9]`. Remember that the final index is **not** included. So the slice `my_list[3:9]` returns the items at indices `3`, `4`, `5`, `6`, `7`, and `8`. It does not return item `9`.\n",
    "\n",
    "We can do the same thing with a data frame, but remember that `[]` selects columns, not rows. For example, `df['Weight (kg)']`. If we want to select row, we use `.loc[]`. Note that `loc` is **not** a method, and so we don't use round parenthesis after it, we use square brackets.\n",
    "\n",
    "Let's select the `third` row."
   ]
  },
  {
   "cell_type": "code",
   "execution_count": null,
   "metadata": {},
   "outputs": [],
   "source": [
    "df.iloc[2]"
   ]
  },
  {
   "cell_type": "markdown",
   "metadata": {},
   "source": [
    "When we select a row, we get a `Series`."
   ]
  },
  {
   "cell_type": "code",
   "execution_count": null,
   "metadata": {},
   "outputs": [],
   "source": [
    "type(df.iloc[2])"
   ]
  },
  {
   "cell_type": "markdown",
   "metadata": {},
   "source": [
    "This is a `Series` with the `object` data type, because it contains items of data of different types."
   ]
  },
  {
   "cell_type": "code",
   "execution_count": null,
   "metadata": {},
   "outputs": [],
   "source": [
    "df.iloc[2].dtype"
   ]
  },
  {
   "cell_type": "markdown",
   "metadata": {},
   "source": [
    "If we want to select several rows, what type of object are we going to get back?\n",
    "\n",
    "Let's select the third (index `2`), fourth (index `3`), and fifth (index `4`) rows with a slice."
   ]
  },
  {
   "cell_type": "code",
   "execution_count": null,
   "metadata": {},
   "outputs": [],
   "source": [
    "df.iloc[2:5]"
   ]
  },
  {
   "cell_type": "markdown",
   "metadata": {},
   "source": [
    "This is not a `Series`, this is a new `DataFrame`, as it contains multiple values."
   ]
  },
  {
   "cell_type": "code",
   "execution_count": null,
   "metadata": {},
   "outputs": [],
   "source": [
    "type(df.iloc[2:5])"
   ]
  },
  {
   "cell_type": "markdown",
   "metadata": {},
   "source": [
    "Actually, we can get a new `DataFrame` even if we just want a single row.\n",
    "\n",
    "We can do this by passing a list with one item as the index."
   ]
  },
  {
   "cell_type": "code",
   "execution_count": null,
   "metadata": {},
   "outputs": [],
   "source": [
    "df.iloc[[2]]"
   ]
  },
  {
   "cell_type": "code",
   "execution_count": null,
   "metadata": {},
   "outputs": [],
   "source": [
    "type(df.iloc[[2]])"
   ]
  },
  {
   "cell_type": "markdown",
   "metadata": {},
   "source": [
    "## Selecting Rows by Non-Numerical Indices\n",
    "\n",
    "Notice that even though the index is a column of strings (`Breed Name`) we are still using numerical indexing. We can, however, choose to index by the value of the index column (`Breed Name`).\n",
    "\n",
    "We just need to switch from `.iloc` to `.loc`."
   ]
  },
  {
   "cell_type": "code",
   "execution_count": null,
   "metadata": {},
   "outputs": [],
   "source": [
    "df.loc['English Springer Spaniel']"
   ]
  },
  {
   "cell_type": "markdown",
   "metadata": {},
   "source": [
    "we can see this is the same as `df.iloc[2]`."
   ]
  },
  {
   "cell_type": "code",
   "execution_count": null,
   "metadata": {},
   "outputs": [],
   "source": [
    "df.iloc[2]"
   ]
  },
  {
   "cell_type": "markdown",
   "metadata": {},
   "source": [
    "Recall that we did a slice with `df.iloc[2:5]`."
   ]
  },
  {
   "cell_type": "code",
   "execution_count": null,
   "metadata": {},
   "outputs": [],
   "source": [
    "df.iloc[2:5]"
   ]
  },
  {
   "cell_type": "markdown",
   "metadata": {},
   "source": [
    "We can do the same with `.loc`. There is a difference though...\n",
    "\n",
    "**Both end points are included with a `.loc` slice!**\n",
    "\n",
    "So if we do a slice from `'English Springer Spaniel'` to `'Staffordshire Bull Terrier'`, the last row (`'Staffordshire Bull Terrier'`) is included. This is different from the case with `iloc`, where the last index is not included."
   ]
  },
  {
   "cell_type": "code",
   "execution_count": null,
   "metadata": {},
   "outputs": [],
   "source": [
    "df.loc['English Springer Spaniel':'Staffordshire Bull Terrier']"
   ]
  },
  {
   "cell_type": "markdown",
   "metadata": {},
   "source": [
    "**(d)** Repeat the same selection of rows as below, but using `.loc`."
   ]
  },
  {
   "cell_type": "code",
   "execution_count": null,
   "metadata": {},
   "outputs": [],
   "source": [
    "df.iloc[4:9]"
   ]
  },
  {
   "cell_type": "code",
   "execution_count": null,
   "metadata": {},
   "outputs": [],
   "source": []
  },
  {
   "cell_type": "markdown",
   "metadata": {},
   "source": [
    "**(e)** Repeat the same selection of rows as below, but using `.iloc`."
   ]
  },
  {
   "cell_type": "code",
   "execution_count": null,
   "metadata": {},
   "outputs": [],
   "source": [
    "df.loc['Golden Retriever':'Boxer']  "
   ]
  },
  {
   "cell_type": "code",
   "execution_count": null,
   "metadata": {},
   "outputs": [],
   "source": []
  },
  {
   "cell_type": "markdown",
   "metadata": {},
   "source": [
    "**Warning:** In some older texts, you will see `.ix` used instead of `.iloc`/`.loc`. It is **not** recommended to use `.ix` since it is deprecated and can cause errors in some instances!"
   ]
  },
  {
   "cell_type": "markdown",
   "metadata": {},
   "source": [
    "## Filtering Rows\n",
    "\n",
    "Sometimes we don't know the specific rows we want.\n",
    "\n",
    "In previous weeks we applied `map` and `filter` operations to data in `list` and `tuple` collections.\n",
    "\n",
    "There are actually several different way to do mapping and filtering operations on Pandas data frames.\n",
    "\n",
    "First we will discuss filtering on rows."
   ]
  },
  {
   "cell_type": "markdown",
   "metadata": {},
   "source": [
    "If we use a comparison operator on a column, we can compare each column to the given value, resulting in a column of `bool` values."
   ]
  },
  {
   "cell_type": "code",
   "execution_count": null,
   "metadata": {},
   "outputs": [],
   "source": [
    "df['Weight (kg)'] <= 20"
   ]
  },
  {
   "cell_type": "markdown",
   "metadata": {},
   "source": [
    "Here, the new column says `True` if the weight of the dog is less than or equal to `20`, and `False` otherwise.\n",
    "\n",
    "This may not be very useful by itself, however, if we pass this new `Series` as an index the result is that these `bool` values are used to filter the data."
   ]
  },
  {
   "cell_type": "code",
   "execution_count": null,
   "metadata": {},
   "outputs": [],
   "source": [
    "df[df['Weight (kg)'] <= 20]"
   ]
  },
  {
   "cell_type": "markdown",
   "metadata": {},
   "source": [
    "Now we have selected all of the dogs with weight less than or equal to 20 kg."
   ]
  },
  {
   "cell_type": "markdown",
   "metadata": {},
   "source": [
    "**(f)** Select all dogs with more than 20,000 registrations."
   ]
  },
  {
   "cell_type": "code",
   "execution_count": null,
   "metadata": {},
   "outputs": [],
   "source": []
  },
  {
   "cell_type": "markdown",
   "metadata": {},
   "source": [
    "**(g)** Select all of the dogs from Germany."
   ]
  },
  {
   "cell_type": "code",
   "execution_count": null,
   "metadata": {},
   "outputs": [],
   "source": []
  },
  {
   "cell_type": "markdown",
   "metadata": {},
   "source": [
    "## Creating New Columns from Old Columns\n",
    "\n",
    "Here, we will talk about how to get similar results to mapping from columns of data in Pandas.\n",
    "\n",
    "First you need to know how to create a new column of data in a Pandas data frame. This is simple, you just use the assignment operator. For example, this will create a new column called `Species` and set all of the values to `Dog`."
   ]
  },
  {
   "cell_type": "code",
   "execution_count": null,
   "metadata": {},
   "outputs": [],
   "source": [
    "df['Species'] = 'Dog'\n",
    "\n",
    "df"
   ]
  },
  {
   "cell_type": "markdown",
   "metadata": {},
   "source": [
    "Of course we know we almost never need to create a column with all the same entries in every row!\n",
    "\n",
    "More commonly, we want to compute a column from other columns.\n",
    "\n",
    "For example, if we wanted to convert the weight to pounds (multiply by `2.20462`), we can just do this by treating the columns like numbers.\n",
    "\n",
    "The code\n",
    "\n",
    "    df['Weight (kg)'] * 2.20462\n",
    "\n",
    "will create a new column with the weight in pounds. But how do we add it to the data frame? Using the assignment operator."
   ]
  },
  {
   "cell_type": "code",
   "execution_count": null,
   "metadata": {},
   "outputs": [],
   "source": [
    "df['Weight (lb)'] = df['Weight (kg)'] * 2.20462\n",
    "\n",
    "df"
   ]
  },
  {
   "cell_type": "markdown",
   "metadata": {},
   "source": [
    "Notice that the rows which contained `NaN` in the old data also contain `NaN` in the new data. This is as expected, because we can't calculate for rows we don't know the value for.\n",
    "\n",
    "Since this looks messy, we might want to round of this spurious precision to 2 decimal places. But we don't use the built-in `round` function, instead, we need to use the `.round` method on a series.\n",
    "\n",
    "The following code\n",
    "\n",
    "    df['Weight (lb)'].round(2)\n",
    "\n",
    "will create a new column with the weight rounded. In this case we don't want to create a new column, we just want to overwrite the existing column, so we'll specify the existing column on the left."
   ]
  },
  {
   "cell_type": "code",
   "execution_count": null,
   "metadata": {},
   "outputs": [],
   "source": [
    "df['Weight (lb)'] = df['Weight (lb)'].round(2)\n",
    "\n",
    "df"
   ]
  },
  {
   "cell_type": "markdown",
   "metadata": {},
   "source": [
    "**(h)** Create a new row `% UK Registrations` which is a `float64` column containing the percent (to 1 decimal place) of registrations.\n",
    "\n",
    "**Hint:** For this exercise, we're just going to assume that all of the dogs listed are the only ones which exist. In reality there are many more.\n",
    "\n",
    "**Hint:** The Labrador Retriever should have a `% UK Registrations` of `29.5`."
   ]
  },
  {
   "cell_type": "code",
   "execution_count": null,
   "metadata": {},
   "outputs": [],
   "source": []
  },
  {
   "cell_type": "markdown",
   "metadata": {},
   "source": [
    "## Exploring Datasets (Optional)\n",
    "\n",
    "Now that you know how to load and manipulate datasets in Python, it would be a good idea to experiment with other datasets.\n",
    "\n",
    "There are several good places to access open datasets, such as [data.gov.uk](https://data.gov.uk/), [EU Data Portal](https://data.europa.eu/euodp/en/data/), and [data.world](https://data.world/) where you can find data sets to explore.\n",
    "\n",
    "Try to find a dataset of interest in CSV format, download it into the same directory as your Jupyter notebook, then try loading it into Pandas, and experiment with manipulating rows and columns."
   ]
  }
 ],
 "metadata": {
  "kernelspec": {
   "display_name": "Python 3 (ipykernel)",
   "language": "python",
   "name": "python3"
  },
  "language_info": {
   "codemirror_mode": {
    "name": "ipython",
    "version": 3
   },
   "file_extension": ".py",
   "mimetype": "text/x-python",
   "name": "python",
   "nbconvert_exporter": "python",
   "pygments_lexer": "ipython3",
   "version": "3.9.10"
  }
 },
 "nbformat": 4,
 "nbformat_minor": 4
}
