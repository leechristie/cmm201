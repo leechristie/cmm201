{
 "cells": [
  {
   "cell_type": "markdown",
   "metadata": {},
   "source": [
    "*Edited: 2022-09-13*"
   ]
  },
  {
   "cell_type": "markdown",
   "metadata": {},
   "source": [
    "# Unit 2.2 &mdash; Additional Examples\n",
    "\n",
    "## Question 1\n",
    "\n",
    "Write a pure function `f` which returns the minimum element and the maximum element of a list. The returned value will be a tuple.\n",
    "\n",
    "For example `f([5, 2, 8, 3, 2, 7])` returns `(2, 8)`"
   ]
  },
  {
   "cell_type": "markdown",
   "metadata": {},
   "source": [
    "### Solution\n",
    "\n",
    "The easiest way to do this is using built-in functions!"
   ]
  },
  {
   "cell_type": "code",
   "execution_count": null,
   "metadata": {},
   "outputs": [],
   "source": [
    "def f(x):\n",
    "    return min(x), max(x)"
   ]
  },
  {
   "cell_type": "markdown",
   "metadata": {},
   "source": [
    "This is a perfectly acceptable solution.\n",
    "\n",
    "As an exercise, let's think how else we could do this another way.\n",
    "\n",
    "For example, we could sort the data, but if we do it like this:"
   ]
  },
  {
   "cell_type": "code",
   "execution_count": null,
   "metadata": {},
   "outputs": [],
   "source": [
    "def f(x):\n",
    "    x.sort()\n",
    "    return x[0], x[-1]"
   ]
  },
  {
   "cell_type": "markdown",
   "metadata": {},
   "source": [
    "it works. But has a side-effect that the input data set gets changed.\n",
    "\n",
    "This means our faction is **not** a pure function!\n",
    "\n",
    "Let's try to see:"
   ]
  },
  {
   "cell_type": "code",
   "execution_count": null,
   "metadata": {},
   "outputs": [],
   "source": [
    "data = [1, 100, 1, 4, -8, 2, 9, 19, 10]\n",
    "\n",
    "print(f(data))\n",
    "print(data) # check to make sure it hasn't chnaged the list - sadly it has!"
   ]
  },
  {
   "cell_type": "markdown",
   "metadata": {},
   "source": [
    "We could use a non-mutating sort and variable reassignment. Which fixes this problem."
   ]
  },
  {
   "cell_type": "code",
   "execution_count": null,
   "metadata": {},
   "outputs": [],
   "source": [
    "def f(x):\n",
    "    x = sorted(x)\n",
    "    return x[0], x[-1]"
   ]
  },
  {
   "cell_type": "markdown",
   "metadata": {},
   "source": [
    "We also discussed how we could do this manually, with iteration.\n",
    "\n",
    "We would need to have a variable which stores the state of our search `minimum` for looking for the minimum and `maximum` for looking for the maximum, and update it as we look at each element."
   ]
  },
  {
   "cell_type": "code",
   "execution_count": null,
   "metadata": {},
   "outputs": [],
   "source": [
    "def f(x):\n",
    "    \n",
    "    smallest = None # to start with we don't have a smalles tor biggest element\n",
    "    biggest = None\n",
    "    \n",
    "    for e in data:\n",
    "        \n",
    "        # have we found a new smallest element?\n",
    "        if smallest is None or e < smallest:\n",
    "            smallest = e\n",
    "        \n",
    "        # have we found a new biggest element?\n",
    "        if biggest is None or e > biggest:\n",
    "            biggest = e\n",
    "            \n",
    "    return smallest, biggest"
   ]
  },
  {
   "cell_type": "code",
   "execution_count": null,
   "metadata": {},
   "outputs": [],
   "source": [
    "data = [1, 100, 1, 4, -8, 2, 9, 19, 10]\n",
    "\n",
    "print(f(data))\n",
    "print(data) # check to make sure it hasn't chnaged the list - it hasn't"
   ]
  },
  {
   "cell_type": "markdown",
   "metadata": {},
   "source": [
    "## Question 2\n",
    "\n",
    "Write a pure function `evens` which takes a list and returns the even elements as a new list.\n",
    "\n",
    "### Solution\n",
    "\n",
    "In the previous example the starting value of our iteration was `None` - a placeholder for not having any known max or min items yet.\n",
    "\n",
    "This uses the same principal of a starting value. Our starting value is `[]` (an empty list with no items yet) and we will append to it.\n",
    "\n",
    "The starting value should typically be the value which we would like to return if there was no data."
   ]
  },
  {
   "cell_type": "code",
   "execution_count": null,
   "metadata": {},
   "outputs": [],
   "source": [
    "def evens(x):\n",
    "    even = []\n",
    "    for e in x:\n",
    "        if e % 2 == 0:\n",
    "            even.append(e)\n",
    "    return even"
   ]
  },
  {
   "cell_type": "code",
   "execution_count": null,
   "metadata": {},
   "outputs": [],
   "source": [
    "data = [1, 100, 1, 4, -8, 2, 9, 19, 10]\n",
    "\n",
    "result = evens(data)\n",
    "\n",
    "result"
   ]
  },
  {
   "cell_type": "markdown",
   "metadata": {},
   "source": [
    "We could actually do this using the `filter` operation, you may wish to try this by filtering instead of using an `if` statement."
   ]
  },
  {
   "cell_type": "code",
   "execution_count": null,
   "metadata": {},
   "outputs": [],
   "source": [
    "def is_even(e):\n",
    "    return e % 2 == 0\n",
    "\n",
    "def evens(x):\n",
    "    even = []\n",
    "    for e in filter(is_even, x):\n",
    "        even.append(e)\n",
    "    return even"
   ]
  },
  {
   "cell_type": "code",
   "execution_count": null,
   "metadata": {},
   "outputs": [],
   "source": [
    "data = [1, 100, 1, 4, -8, 2, 9, 19, 10]\n",
    "\n",
    "result = evens(data)\n",
    "\n",
    "result"
   ]
  },
  {
   "cell_type": "markdown",
   "metadata": {},
   "source": [
    "Since the boolean function `is_even` is a one-line pure function only used in one place we could use a lambda expression instead.\n",
    "\n",
    "To use a lambda, we out the logic `e % 2 == 0` into the lambda like `lambda e: e % 2 == 0` and use this in place of the function reference.\n",
    "\n",
    "If this is a little hard to follow, it's still okay to use the above version with an explicitly named function."
   ]
  },
  {
   "cell_type": "code",
   "execution_count": null,
   "metadata": {},
   "outputs": [],
   "source": [
    "def evens(x):\n",
    "    even = []\n",
    "    for e in filter(lambda e: e % 2 == 0, x):\n",
    "        even.append(e)\n",
    "    return even"
   ]
  },
  {
   "cell_type": "code",
   "execution_count": null,
   "metadata": {},
   "outputs": [],
   "source": [
    "data = [1, 100, 1, 4, -8, 2, 9, 19, 10]\n",
    "\n",
    "result = evens(data)\n",
    "\n",
    "result"
   ]
  },
  {
   "cell_type": "markdown",
   "metadata": {},
   "source": [
    "Since our logic is only doing a filter on a collection and nothing else, we can just cast the result of the filter to a list and return that!"
   ]
  },
  {
   "cell_type": "code",
   "execution_count": null,
   "metadata": {},
   "outputs": [],
   "source": [
    "def evens(x):\n",
    "    return list(filter(lambda e: e % 2 == 0, x))"
   ]
  },
  {
   "cell_type": "code",
   "execution_count": null,
   "metadata": {},
   "outputs": [],
   "source": [
    "data = [1, 100, 1, 4, -8, 2, 9, 19, 10]\n",
    "\n",
    "result = evens(data)\n",
    "\n",
    "result"
   ]
  },
  {
   "cell_type": "markdown",
   "metadata": {},
   "source": [
    "We have a solution which is a lot more compact, though perhaps a little harder to follow if the reader isn't familiar with filter and lambdas."
   ]
  },
  {
   "cell_type": "markdown",
   "metadata": {},
   "source": [
    "## Question 3\n",
    "\n",
    "We have a slightly difficult file which is some HTML. We want to extract a list of people from `html.txt`. Here is the file contents:\n",
    "\n",
    "    <table style=\"width:100%\">\n",
    "      <tr>\n",
    "        <th>Firstname</th>\n",
    "        <th>Lastname</th> \n",
    "        <th>Age</th>\n",
    "      </tr>\n",
    "      <tr>\n",
    "        <td>Jill</td>\n",
    "        <td>Smith</td> \n",
    "        <td>50</td>\n",
    "      </tr>\n",
    "      <tr>\n",
    "        <td>Eve</td>\n",
    "        <td>Jackson</td> \n",
    "        <td>94</td>\n",
    "      </tr>\n",
    "    </table>\n",
    "\n",
    "Write a program to extract the people as a `dict` mapping names to ages e.g. `{'Jill Smith' : 50, 'Eve Jackson' : 94}`.\n",
    "\n",
    "### Solution\n",
    "\n",
    "We know we have to start with what we would return if there were no data `{}` and build up from there.\n",
    "\n",
    "Since knowing whether we have a first name, last name, or age is determine on how many lines in we are from the start of a `<tr>` block, we will keep a counter called `counter`. This will be set to `0` when we see a `<tr>` or increased otherwise"
   ]
  },
  {
   "cell_type": "code",
   "execution_count": null,
   "metadata": {},
   "outputs": [],
   "source": [
    "people = {}\n",
    "\n",
    "counter = 0\n",
    "\n",
    "first = None\n",
    "last = None\n",
    "age = None\n",
    "\n",
    "with open('html.txt') as file:\n",
    "\n",
    "    for line in file:\n",
    "        \n",
    "        line = line.strip()\n",
    "        \n",
    "        # counter resets at the start of each <tr> block\n",
    "        if line == '<tr>':\n",
    "            counter = 0\n",
    "        else:\n",
    "            counter += 1\n",
    "        \n",
    "        # found an element of data\n",
    "        if line.startswith('<td>'):\n",
    "            \n",
    "            if counter == 1:\n",
    "                first = line[4:-5]\n",
    "            elif counter == 2:\n",
    "                last = line[4:-5]\n",
    "            elif counter == 3:\n",
    "                age = int(line[4:-5])\n",
    "                # if we have all three items, add to the dict\n",
    "                people[f'{first} {last}'] = age"
   ]
  },
  {
   "cell_type": "code",
   "execution_count": null,
   "metadata": {},
   "outputs": [],
   "source": [
    "people"
   ]
  },
  {
   "cell_type": "markdown",
   "metadata": {},
   "source": [
    "This code could still use some tidying, for example, the logic of stripping off `<td>` and `</td>` is repeated three times and is rather obscurely implemented as `[4:-5]`.\n",
    "\n",
    "A good thing to do would be to pull out a function, which we'll call `striptd`."
   ]
  },
  {
   "cell_type": "code",
   "execution_count": null,
   "metadata": {},
   "outputs": [],
   "source": [
    "def striptd(line):\n",
    "    # removes <td></td>\n",
    "    return line[4:-5]\n",
    "\n",
    "people = {}\n",
    "\n",
    "counter = 0\n",
    "\n",
    "first = None\n",
    "last = None\n",
    "age = None\n",
    "\n",
    "with open('html.txt') as file:\n",
    "    \n",
    "    for line in file:\n",
    "        \n",
    "        line = line.strip()\n",
    "        \n",
    "        # counter resets at the start of each <tr> block\n",
    "        if line == '<tr>':\n",
    "            counter = 0\n",
    "        else:\n",
    "            counter += 1\n",
    "            \n",
    "        # found an element of data\n",
    "        if line.startswith('<td>'):\n",
    "            \n",
    "            if counter == 1:\n",
    "                first = striptd(line)\n",
    "            elif counter == 2:\n",
    "                last = striptd(line)\n",
    "            elif counter == 3:\n",
    "                age = int(striptd(line))\n",
    "                # if we have all three items, add to the dict\n",
    "                people[f'{first} {last}'] = age"
   ]
  },
  {
   "cell_type": "code",
   "execution_count": null,
   "metadata": {},
   "outputs": [],
   "source": [
    "people"
   ]
  },
  {
   "cell_type": "markdown",
   "metadata": {},
   "source": [
    "Can you think of any other ways to make this code clearer?\n",
    "\n",
    "When you are processing a messy data file, you need to look at the file, and make some assumptions about its structure.\n",
    "\n",
    "Then write code to deal with each part of the problem."
   ]
  }
 ],
 "metadata": {
  "kernelspec": {
   "display_name": "Python 3 (ipykernel)",
   "language": "python",
   "name": "python3"
  },
  "language_info": {
   "codemirror_mode": {
    "name": "ipython",
    "version": 3
   },
   "file_extension": ".py",
   "mimetype": "text/x-python",
   "name": "python",
   "nbconvert_exporter": "python",
   "pygments_lexer": "ipython3",
   "version": "3.9.10"
  }
 },
 "nbformat": 4,
 "nbformat_minor": 4
}
