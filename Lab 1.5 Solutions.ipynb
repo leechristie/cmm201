{
 "cells": [
  {
   "cell_type": "markdown",
   "source": [
    "*Edited: 17th September 2023*"
   ],
   "metadata": {
    "collapsed": false
   }
  },
  {
   "cell_type": "markdown",
   "source": [
    "# CMM201 &mdash; Lab 1.5 &mdash; Solutions"
   ],
   "metadata": {
    "collapsed": false
   }
  },
  {
   "cell_type": "markdown",
   "metadata": {},
   "source": [
    "**(a)**\n",
    "\n",
    "This example can be done with either single quotes or double quotes, in the suggested solution below we used single quotes but, it doesn't matter."
   ]
  },
  {
   "cell_type": "code",
   "execution_count": null,
   "metadata": {},
   "outputs": [],
   "source": [
    "x = 'Hello'\n",
    "y = 'World'\n",
    "\n",
    "print(f'{x} {y}!')"
   ]
  },
  {
   "cell_type": "markdown",
   "metadata": {},
   "source": [
    "**(b)**\n",
    "\n",
    "Check your answer exactly. For example `Carol 's` would be incorrect because it contains a spaced before `'s` which is not correct English.\n",
    "\n",
    "Similarly, `\" space \"` would be incorrect because there are extra spaces inside the quotes, and `is42.` and `is 42 .` are both wrong."
   ]
  },
  {
   "cell_type": "code",
   "execution_count": null,
   "metadata": {},
   "outputs": [],
   "source": [
    "name = 'Carol'\n",
    "word = 'space'\n",
    "number = 42\n",
    "\n",
    "print(name + \"'s favourite word is \\\"\" + word + \"\\\" and number is \" + str(number) + \".\")"
   ]
  },
  {
   "cell_type": "markdown",
   "metadata": {},
   "source": [
    "**(c)**\n",
    "\n",
    "Again, checking your answer make sure all the spaces are correct."
   ]
  },
  {
   "cell_type": "code",
   "execution_count": null,
   "metadata": {},
   "outputs": [],
   "source": [
    "lang = 'Python'\n",
    "module = 'CMM201'\n",
    "\n",
    "print(lang, '\\'s taught in ', module, '.', sep='')"
   ]
  },
  {
   "cell_type": "markdown",
   "metadata": {},
   "source": [
    "**(d)**"
   ]
  },
  {
   "cell_type": "code",
   "execution_count": null,
   "metadata": {},
   "outputs": [],
   "source": [
    "x = ' Hello '\n",
    "\n",
    "x = x.lstrip()\n",
    "\n",
    "x"
   ]
  },
  {
   "cell_type": "markdown",
   "metadata": {},
   "source": [
    "**(e)**"
   ]
  },
  {
   "cell_type": "code",
   "execution_count": null,
   "metadata": {},
   "outputs": [],
   "source": [
    "x = 'abcde'\n",
    "\n",
    "x = x.strip('ae')\n",
    "\n",
    "x"
   ]
  },
  {
   "cell_type": "markdown",
   "metadata": {},
   "source": [
    "**(f)**"
   ]
  },
  {
   "cell_type": "code",
   "execution_count": null,
   "metadata": {},
   "outputs": [],
   "source": [
    "x = 'The cat in the hat!'\n",
    "\n",
    "x.upper().count('T')"
   ]
  },
  {
   "cell_type": "markdown",
   "metadata": {},
   "source": [
    "**(g)**"
   ]
  },
  {
   "cell_type": "code",
   "execution_count": null,
   "metadata": {},
   "outputs": [],
   "source": [
    "x = 'The cat in the hat!'\n",
    "\n",
    "x = x.replace('cat', 'dog')\n",
    "\n",
    "x"
   ]
  },
  {
   "cell_type": "markdown",
   "metadata": {},
   "source": [
    "**(h)**"
   ]
  },
  {
   "cell_type": "code",
   "execution_count": null,
   "metadata": {},
   "outputs": [],
   "source": [
    "name = input('Please input your name:')\n",
    "name = name.strip()\n",
    "\n",
    "if name:\n",
    "    print('Hi', name)\n",
    "else:\n",
    "    print('Invalid input!')"
   ]
  },
  {
   "cell_type": "markdown",
   "metadata": {},
   "source": [
    "**(i)**"
   ]
  },
  {
   "cell_type": "code",
   "execution_count": null,
   "metadata": {},
   "outputs": [],
   "source": [
    "def fib(n):\n",
    "    # we won't bother checking if type(n) == int here\n",
    "    # because if we called the function it already successfully\n",
    "    # converted to an int in the program below\n",
    "    if n < 1:\n",
    "        raise ValueError('n is not positive')\n",
    "    if n == 1:\n",
    "        return 1\n",
    "    if n == 2:\n",
    "        return 1\n",
    "    return fib(n-2) + fib(n-1)"
   ]
  },
  {
   "cell_type": "code",
   "execution_count": null,
   "metadata": {},
   "outputs": [],
   "source": [
    "try:\n",
    "    n = input('n =')\n",
    "    n = int(n)\n",
    "    result = fib(n)\n",
    "    print(f'fib({n}) = {result}')\n",
    "except ValueError as e:\n",
    "    if 'invalid literal' in str(e):\n",
    "        print('n is not an integer')\n",
    "    else:\n",
    "        print(e)"
   ]
  },
  {
   "cell_type": "markdown",
   "source": [
    "**(j)**\n",
    "\n",
    "No! `if type(x) == int` check if the type of the variable `x` is an `int`. Use this for checking function arguments.\n",
    "\n",
    "It will never be an integer if it was returned from `input(...)`, it will always be a `str`.\n",
    "\n",
    "If you want to check if the user has typed a string corresponding to an integer such as `'42'`, you must try to typecast it to an integer then catch the exception! Then if they typed something like `'hello'` or `'3.14'` you will catch the `ValueError`."
   ],
   "metadata": {
    "collapsed": false
   }
  }
 ],
 "metadata": {
  "kernelspec": {
   "display_name": "Python 3 (ipykernel)",
   "language": "python",
   "name": "python3"
  },
  "language_info": {
   "codemirror_mode": {
    "name": "ipython",
    "version": 3
   },
   "file_extension": ".py",
   "mimetype": "text/x-python",
   "name": "python",
   "nbconvert_exporter": "python",
   "pygments_lexer": "ipython3",
   "version": "3.9.10"
  }
 },
 "nbformat": 4,
 "nbformat_minor": 4
}
