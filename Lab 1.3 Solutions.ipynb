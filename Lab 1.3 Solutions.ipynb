{
 "cells": [
  {
   "cell_type": "markdown",
   "metadata": {},
   "source": [
    "*Edited: 11th September 2023*"
   ]
  },
  {
   "cell_type": "markdown",
   "metadata": {},
   "source": [
    "# CMM201 &mdash; Lab 1.3 &mdash; Solutions"
   ]
  },
  {
   "cell_type": "markdown",
   "metadata": {},
   "source": [
    "If you run the answers in this notebook, you'll need to run this cell first to define the functions used:"
   ]
  },
  {
   "cell_type": "code",
   "execution_count": null,
   "metadata": {},
   "outputs": [],
   "source": [
    "import random\n",
    "\n",
    "def plus_one(x):\n",
    "    return x + 1\n",
    "\n",
    "def calculate_y(m, x, c):\n",
    "    return m * x + c\n",
    "\n",
    "def three_digit():\n",
    "    return random.randint(100, 999)"
   ]
  },
  {
   "cell_type": "markdown",
   "metadata": {},
   "source": [
    "**(a)**"
   ]
  },
  {
   "cell_type": "code",
   "execution_count": null,
   "metadata": {},
   "outputs": [],
   "source": [
    "def times_two(x):\n",
    "    return x * 2"
   ]
  },
  {
   "cell_type": "markdown",
   "metadata": {},
   "source": [
    "**(b)**"
   ]
  },
  {
   "cell_type": "code",
   "execution_count": null,
   "metadata": {},
   "outputs": [],
   "source": [
    "times_two(123)"
   ]
  },
  {
   "cell_type": "markdown",
   "metadata": {},
   "source": [
    "**(c)**"
   ]
  },
  {
   "cell_type": "code",
   "execution_count": null,
   "metadata": {},
   "outputs": [],
   "source": [
    "times_two(plus_one(100))"
   ]
  },
  {
   "cell_type": "markdown",
   "source": [
    "Watch out! This is order would **not** be what we asked for:\n",
    "\n",
    "    plus_one(times_two(100))"
   ],
   "metadata": {
    "collapsed": false
   }
  },
  {
   "cell_type": "markdown",
   "metadata": {},
   "source": [
    "**(d)**"
   ]
  },
  {
   "cell_type": "code",
   "execution_count": null,
   "metadata": {},
   "outputs": [],
   "source": [
    "def area(width, height):\n",
    "    return width * height"
   ]
  },
  {
   "cell_type": "code",
   "execution_count": null,
   "metadata": {},
   "outputs": [],
   "source": [
    "def perimeter(width, height):\n",
    "    return 2 * (width + height)"
   ]
  },
  {
   "cell_type": "markdown",
   "source": [
    "Note: It would also be acceptable to define perimeter using:\n",
    "\n",
    "    2 * width + 2 * height\n",
    "\n",
    "However, this would be wrong:\n",
    "\n",
    "    2 * width + height\n",
    "\n",
    "Can you see why?"
   ],
   "metadata": {
    "collapsed": false
   }
  },
  {
   "cell_type": "markdown",
   "metadata": {},
   "source": [
    "**(e)**"
   ]
  },
  {
   "cell_type": "code",
   "execution_count": null,
   "metadata": {},
   "outputs": [],
   "source": [
    "area(15, 3)"
   ]
  },
  {
   "cell_type": "code",
   "execution_count": null,
   "metadata": {},
   "outputs": [],
   "source": [
    "perimeter(15, 3)"
   ]
  },
  {
   "cell_type": "markdown",
   "metadata": {},
   "source": [
    "**(f)**"
   ]
  },
  {
   "cell_type": "code",
   "execution_count": null,
   "metadata": {},
   "outputs": [],
   "source": [
    "call1 = calculate_y(1, 7, 2) \n",
    "call2 = calculate_y(4, 2, -1)\n",
    "\n",
    "call1 + (call2 + call2) // call1"
   ]
  },
  {
   "cell_type": "markdown",
   "source": [
    "Notice there were two unique instances of the function being called, one with arguments `1, 7, 2`, and one with arguments `4, 2, -1`.\n",
    "\n",
    "In the above example we chose to assign them to variables `call1` and `call2`, but we could have picked `x` and `y`, or any other valid names."
   ],
   "metadata": {
    "collapsed": false
   }
  },
  {
   "cell_type": "markdown",
   "metadata": {},
   "source": [
    "**(g)**"
   ]
  },
  {
   "cell_type": "markdown",
   "metadata": {},
   "source": [
    "Program 1:"
   ]
  },
  {
   "cell_type": "code",
   "execution_count": null,
   "metadata": {},
   "outputs": [],
   "source": [
    "three_digit() + three_digit()"
   ]
  },
  {
   "cell_type": "markdown",
   "metadata": {},
   "source": [
    "Program 2:"
   ]
  },
  {
   "cell_type": "code",
   "execution_count": null,
   "metadata": {},
   "outputs": [],
   "source": [
    "temp = three_digit()\n",
    "\n",
    "temp + temp"
   ]
  },
  {
   "cell_type": "markdown",
   "source": [
    "Not only do we get different numbers because of the randomness, note that in our example, Program 1 can output either an odd or even number, but Program 2 can only output an even number. Can you think why?"
   ],
   "metadata": {
    "collapsed": false
   }
  },
  {
   "cell_type": "markdown",
   "metadata": {},
   "source": [
    "**(g)**\n",
    "\n",
    "We forgot the return keyword."
   ]
  },
  {
   "cell_type": "code",
   "execution_count": null,
   "metadata": {},
   "outputs": [],
   "source": [
    "def times_four(x):\n",
    "    return x * 4\n",
    "\n",
    "times_four(4)"
   ]
  },
  {
   "cell_type": "markdown",
   "metadata": {},
   "source": [
    "**(h)**\n",
    "\n",
    "We need to specify the package, and also the minimum value."
   ]
  },
  {
   "cell_type": "code",
   "execution_count": null,
   "metadata": {},
   "outputs": [],
   "source": [
    "import random\n",
    "\n",
    "def roll():\n",
    "    print('rolled', random.randint(1, 6))\n",
    "\n",
    "roll()"
   ]
  },
  {
   "cell_type": "markdown",
   "source": [
    "Alternatively we could import the function we need like this:"
   ],
   "metadata": {
    "collapsed": false
   }
  },
  {
   "cell_type": "code",
   "execution_count": null,
   "outputs": [],
   "source": [
    "from random import randint\n",
    "\n",
    "def roll():\n",
    "    print('rolled', randint(1, 6))\n",
    "\n",
    "roll()"
   ],
   "metadata": {
    "collapsed": false
   }
  },
  {
   "cell_type": "markdown",
   "metadata": {},
   "source": [
    "**(i)**\n",
    "\n",
    "The same counter was used by both functions, so we made two separate counters."
   ]
  },
  {
   "cell_type": "code",
   "execution_count": null,
   "metadata": {},
   "outputs": [],
   "source": [
    "counter1 = 0\n",
    "def add_one(x):\n",
    "    global counter1\n",
    "    counter1 += 1\n",
    "    return x + 1\n",
    "\n",
    "counter2 = 0\n",
    "def add_two(x):\n",
    "    global counter2\n",
    "    counter2 += 1\n",
    "    return x + 2\n",
    "\n",
    "add_one(5)\n",
    "add_one(7)\n",
    "add_two(5)\n",
    "add_two(7)\n",
    "add_two(16)\n",
    "\n",
    "print('add_one was called', counter1, 'times')\n",
    "print('add_two was called', counter2, 'times')"
   ]
  }
 ],
 "metadata": {
  "hide_input": false,
  "kernelspec": {
   "display_name": "Python 3 (ipykernel)",
   "language": "python",
   "name": "python3"
  },
  "language_info": {
   "codemirror_mode": {
    "name": "ipython",
    "version": 3
   },
   "file_extension": ".py",
   "mimetype": "text/x-python",
   "name": "python",
   "nbconvert_exporter": "python",
   "pygments_lexer": "ipython3",
   "version": "3.9.10"
  },
  "varInspector": {
   "cols": {
    "lenName": 16,
    "lenType": 16,
    "lenVar": 40
   },
   "kernels_config": {
    "python": {
     "delete_cmd_postfix": "",
     "delete_cmd_prefix": "del ",
     "library": "var_list.py",
     "varRefreshCmd": "print(var_dic_list())"
    },
    "r": {
     "delete_cmd_postfix": ") ",
     "delete_cmd_prefix": "rm(",
     "library": "var_list.r",
     "varRefreshCmd": "cat(var_dic_list()) "
    }
   },
   "types_to_exclude": [
    "module",
    "function",
    "builtin_function_or_method",
    "instance",
    "_Feature"
   ],
   "window_display": false
  }
 },
 "nbformat": 4,
 "nbformat_minor": 4
}
