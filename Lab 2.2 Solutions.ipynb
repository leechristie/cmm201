{
 "cells": [
  {
   "cell_type": "markdown",
   "metadata": {},
   "source": [
    "*Edited: 17th September 2023*"
   ]
  },
  {
   "cell_type": "markdown",
   "metadata": {},
   "source": [
    "# CMM201 &mdash; Lab 2.2  &mdash; Solutions"
   ]
  },
  {
   "cell_type": "markdown",
   "metadata": {},
   "source": [
    "**(a)**"
   ]
  },
  {
   "cell_type": "code",
   "execution_count": null,
   "metadata": {},
   "outputs": [],
   "source": [
    "foo = 1, 71, 2, 33, 30, 9, 1, 10, 21, 13, 1, 11, 15\n",
    "bar = []\n",
    "\n",
    "for element in foo:\n",
    "    if element % 3 == 0:\n",
    "        bar.append(element)\n",
    "\n",
    "print('foo =', foo)\n",
    "print('bar =', bar)"
   ]
  },
  {
   "cell_type": "markdown",
   "metadata": {},
   "source": [
    "**(b)**"
   ]
  },
  {
   "cell_type": "code",
   "execution_count": null,
   "metadata": {},
   "outputs": [],
   "source": [
    "foo = 1, 71, 2, 33, 30, 9, 1, 10, 21, 13, 1, 11, 15\n",
    "bar = []\n",
    "\n",
    "for element in foo:\n",
    "    if element % 3 == 0:\n",
    "        bar.append(element)\n",
    "bar.sort()\n",
    "\n",
    "print('foo =', foo)\n",
    "print('bar =', bar)"
   ]
  },
  {
   "cell_type": "markdown",
   "metadata": {},
   "source": [
    "**(c)**"
   ]
  },
  {
   "cell_type": "code",
   "execution_count": null,
   "metadata": {},
   "outputs": [],
   "source": [
    "all_data = {1, 2, 3, 4, 10, 20, 30, 40, 100, 200, 300, 400}\n",
    "wanted = {1, 7, 10}\n",
    "result = set()\n",
    "\n",
    "for element in all_data:\n",
    "    if element in wanted:\n",
    "        result.add(element)\n",
    "\n",
    "print('result =', result)"
   ]
  },
  {
   "cell_type": "markdown",
   "metadata": {},
   "source": [
    "**(d)**"
   ]
  },
  {
   "cell_type": "code",
   "execution_count": null,
   "metadata": {},
   "outputs": [],
   "source": [
    "keys = ['Alice', 'Bob', 'Charlie']\n",
    "values = [555100, 555200, 555300]\n",
    "result = {}\n",
    "\n",
    "for k, v in zip(keys, values):\n",
    "    result[k] = v\n",
    "\n",
    "result"
   ]
  },
  {
   "cell_type": "markdown",
   "metadata": {},
   "source": [
    "**(e)**"
   ]
  },
  {
   "cell_type": "markdown",
   "metadata": {},
   "source": [
    "If we indented the last line, it would run every time the loop runs, meaning every time you input an invalid integer, we would see:\n",
    "\n",
    "    Thank you!\n",
    "    None is definitely an integer.\n",
    "\n",
    "But this is not correct."
   ]
  },
  {
   "cell_type": "markdown",
   "metadata": {},
   "source": [
    "**(f)**"
   ]
  },
  {
   "cell_type": "code",
   "execution_count": null,
   "metadata": {},
   "outputs": [],
   "source": [
    "def highest_min(a, b):\n",
    "    if min(a) > min(b):\n",
    "        return a\n",
    "    return b"
   ]
  },
  {
   "cell_type": "markdown",
   "metadata": {},
   "source": [
    "**(g)**"
   ]
  },
  {
   "cell_type": "code",
   "execution_count": null,
   "metadata": {},
   "outputs": [],
   "source": [
    "def counts(data):\n",
    "    result = {}\n",
    "    for e in data:\n",
    "        if e in result:\n",
    "            result[e] += 1\n",
    "        else:\n",
    "            result[e] = 1\n",
    "    return result\n",
    "\n",
    "counts(['a', 4, 10, 4, 'b', 'a'])"
   ]
  },
  {
   "cell_type": "markdown",
   "metadata": {},
   "source": [
    "**(h)**"
   ]
  },
  {
   "cell_type": "code",
   "execution_count": null,
   "metadata": {},
   "outputs": [],
   "source": [
    "prices = {}\n",
    "with open('lab_text.txt') as file:\n",
    "    for line in file:\n",
    "        line = line.strip()\n",
    "        item, price = line.split(':')\n",
    "        price = float(price[1:])\n",
    "        prices[item] = price\n",
    "        \n",
    "prices"
   ]
  },
  {
   "cell_type": "markdown",
   "metadata": {},
   "source": [
    "**(i)**"
   ]
  },
  {
   "cell_type": "code",
   "execution_count": null,
   "metadata": {},
   "outputs": [],
   "source": [
    "prices = {}\n",
    "with open('lab_text_2.txt') as file:\n",
    "    for line in file:\n",
    "        if ':' in line:\n",
    "            line = line.strip()\n",
    "            item, price = line.split(':')\n",
    "            price = float(price[1:])\n",
    "            prices[item] = price\n",
    "        \n",
    "prices"
   ]
  },
  {
   "cell_type": "markdown",
   "metadata": {},
   "source": [
    "**(j)**"
   ]
  },
  {
   "cell_type": "code",
   "execution_count": null,
   "metadata": {},
   "outputs": [],
   "source": [
    "with open('lab_text_3.txt') as file:\n",
    "    for line in file:\n",
    "        if line[0] == '|':\n",
    "            line = line.strip(' |\\r\\n')\n",
    "            item, price = line.split('£')\n",
    "            item = item.strip()\n",
    "            price = float(price.strip())\n",
    "            prices[item] = price\n",
    "        \n",
    "prices"
   ]
  }
 ],
 "metadata": {
  "kernelspec": {
   "display_name": "Python 3 (ipykernel)",
   "language": "python",
   "name": "python3"
  },
  "language_info": {
   "codemirror_mode": {
    "name": "ipython",
    "version": 3
   },
   "file_extension": ".py",
   "mimetype": "text/x-python",
   "name": "python",
   "nbconvert_exporter": "python",
   "pygments_lexer": "ipython3",
   "version": "3.9.13"
  }
 },
 "nbformat": 4,
 "nbformat_minor": 4
}
