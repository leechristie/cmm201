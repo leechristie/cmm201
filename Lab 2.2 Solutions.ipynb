{
 "cells": [
  {
   "cell_type": "markdown",
   "metadata": {},
   "source": [
    "*Edited: 2022-09-13*"
   ]
  },
  {
   "cell_type": "markdown",
   "metadata": {},
   "source": [
    "# CMM201 &mdash; Lab 2.2  &mdash; Solutions"
   ]
  },
  {
   "cell_type": "markdown",
   "metadata": {},
   "source": [
    "**(a)**"
   ]
  },
  {
   "cell_type": "code",
   "execution_count": 1,
   "metadata": {},
   "outputs": [
    {
     "name": "stdout",
     "output_type": "stream",
     "text": [
      "foo = (1, 71, 2, 33, 30, 9, 1, 10, 21, 13, 1, 11, 15)\n",
      "bar = [33, 30, 9, 21, 15]\n"
     ]
    }
   ],
   "source": [
    "foo = 1, 71, 2, 33, 30, 9, 1, 10, 21, 13, 1, 11, 15\n",
    "bar = []\n",
    "\n",
    "for element in foo:\n",
    "    if element % 3 == 0:\n",
    "        bar.append(element)\n",
    "\n",
    "print('foo =', foo)\n",
    "print('bar =', bar)"
   ]
  },
  {
   "cell_type": "markdown",
   "metadata": {},
   "source": [
    "**(b)**"
   ]
  },
  {
   "cell_type": "code",
   "execution_count": 2,
   "metadata": {},
   "outputs": [
    {
     "name": "stdout",
     "output_type": "stream",
     "text": [
      "foo = (1, 71, 2, 33, 30, 9, 1, 10, 21, 13, 1, 11, 15)\n",
      "bar = [9, 15, 21, 30, 33]\n"
     ]
    }
   ],
   "source": [
    "foo = 1, 71, 2, 33, 30, 9, 1, 10, 21, 13, 1, 11, 15\n",
    "bar = []\n",
    "\n",
    "for element in foo:\n",
    "    if element % 3 == 0:\n",
    "        bar.append(element)\n",
    "bar.sort()\n",
    "\n",
    "print('foo =', foo)\n",
    "print('bar =', bar)"
   ]
  },
  {
   "cell_type": "markdown",
   "metadata": {},
   "source": [
    "**(c)**"
   ]
  },
  {
   "cell_type": "code",
   "execution_count": 3,
   "metadata": {},
   "outputs": [
    {
     "name": "stdout",
     "output_type": "stream",
     "text": [
      "result = {1, 10}\n"
     ]
    }
   ],
   "source": [
    "all_data = {1, 2, 3, 4, 10, 20, 30, 40, 100, 200, 300, 400}\n",
    "wanted = {1, 7, 10}\n",
    "result = set()\n",
    "\n",
    "for element in all_data:\n",
    "    if element in wanted:\n",
    "        result.add(element)\n",
    "\n",
    "print('result =', result)"
   ]
  },
  {
   "cell_type": "markdown",
   "metadata": {},
   "source": [
    "**(d)**"
   ]
  },
  {
   "cell_type": "code",
   "execution_count": 4,
   "metadata": {},
   "outputs": [
    {
     "data": {
      "text/plain": [
       "{'Alice': 555100, 'Bob': 555200, 'Charlie': 555300}"
      ]
     },
     "execution_count": 4,
     "metadata": {},
     "output_type": "execute_result"
    }
   ],
   "source": [
    "keys = ['Alice', 'Bob', 'Charlie']\n",
    "values = [555100, 555200, 555300]\n",
    "result = {}\n",
    "\n",
    "for k, v in zip(keys, values):\n",
    "    result[k] = v\n",
    "\n",
    "result"
   ]
  },
  {
   "cell_type": "markdown",
   "metadata": {},
   "source": [
    "**(e)**"
   ]
  },
  {
   "cell_type": "code",
   "execution_count": 5,
   "metadata": {},
   "outputs": [],
   "source": [
    "def highest_min(a, b):\n",
    "    if min(a) > min(b):\n",
    "        return a\n",
    "    return b"
   ]
  },
  {
   "cell_type": "markdown",
   "metadata": {},
   "source": [
    "**(f)**"
   ]
  },
  {
   "cell_type": "code",
   "execution_count": 6,
   "metadata": {},
   "outputs": [
    {
     "data": {
      "text/plain": [
       "{'a': 2, 4: 2, 10: 1, 'b': 1}"
      ]
     },
     "execution_count": 6,
     "metadata": {},
     "output_type": "execute_result"
    }
   ],
   "source": [
    "def counts(data):\n",
    "    result = {}\n",
    "    for e in data:\n",
    "        if e in result:\n",
    "            result[e] += 1\n",
    "        else:\n",
    "            result[e] = 1\n",
    "    return result\n",
    "\n",
    "counts(['a', 4, 10, 4, 'b', 'a'])"
   ]
  },
  {
   "cell_type": "markdown",
   "metadata": {},
   "source": [
    "**(g)**"
   ]
  },
  {
   "cell_type": "code",
   "execution_count": 7,
   "metadata": {},
   "outputs": [
    {
     "data": {
      "text/plain": [
       "{'apples': 0.62, 'bananas': 0.13, 'oranges': 0.3}"
      ]
     },
     "execution_count": 7,
     "metadata": {},
     "output_type": "execute_result"
    }
   ],
   "source": [
    "prices = {}\n",
    "with open('lab_text.txt') as file:\n",
    "    for line in file:\n",
    "        line = line.strip()\n",
    "        item, price = line.split(':')\n",
    "        price = float(price[1:])\n",
    "        prices[item] = price\n",
    "        \n",
    "prices"
   ]
  },
  {
   "cell_type": "markdown",
   "metadata": {},
   "source": [
    "**(h)**"
   ]
  },
  {
   "cell_type": "code",
   "execution_count": 8,
   "metadata": {},
   "outputs": [
    {
     "data": {
      "text/plain": [
       "{'apples': 0.62, 'bananas': 0.13, 'oranges': 0.3}"
      ]
     },
     "execution_count": 8,
     "metadata": {},
     "output_type": "execute_result"
    }
   ],
   "source": [
    "prices = {}\n",
    "with open('lab_text_2.txt') as file:\n",
    "    for line in file:\n",
    "        if ':' in line:\n",
    "            line = line.strip()\n",
    "            item, price = line.split(':')\n",
    "            price = float(price[1:])\n",
    "            prices[item] = price\n",
    "        \n",
    "prices"
   ]
  },
  {
   "cell_type": "markdown",
   "metadata": {},
   "source": [
    "**(i)**"
   ]
  },
  {
   "cell_type": "code",
   "execution_count": 9,
   "metadata": {},
   "outputs": [
    {
     "data": {
      "text/plain": [
       "{'apples': 0.62, 'bananas': 0.13, 'oranges': 0.3}"
      ]
     },
     "execution_count": 9,
     "metadata": {},
     "output_type": "execute_result"
    }
   ],
   "source": [
    "with open('lab_text_3.txt') as file:\n",
    "    for line in file:\n",
    "        if line[0] == '|':\n",
    "            line = line.strip(' |\\r\\n')\n",
    "            item, price = line.split('£')\n",
    "            item = item.strip()\n",
    "            price = float(price.strip())\n",
    "            prices[item] = price\n",
    "        \n",
    "prices"
   ]
  }
 ],
 "metadata": {
  "kernelspec": {
   "display_name": "Python 3 (ipykernel)",
   "language": "python",
   "name": "python3"
  },
  "language_info": {
   "codemirror_mode": {
    "name": "ipython",
    "version": 3
   },
   "file_extension": ".py",
   "mimetype": "text/x-python",
   "name": "python",
   "nbconvert_exporter": "python",
   "pygments_lexer": "ipython3",
   "version": "3.9.10"
  }
 },
 "nbformat": 4,
 "nbformat_minor": 4
}
