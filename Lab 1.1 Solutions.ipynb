{
 "cells": [
  {
   "cell_type": "markdown",
   "source": [
    "*Edited: 9th September 2023*"
   ],
   "metadata": {
    "collapsed": false
   },
   "id": "7b6348e61397f812"
  },
  {
   "cell_type": "markdown",
   "source": [
    "# CMM201 &mdash; Lab 1.1 &mdash; Solutions"
   ],
   "metadata": {
    "collapsed": false
   },
   "id": "13dab556e483c52"
  },
  {
   "cell_type": "markdown",
   "source": [
    "**(a)**\n",
    "\n",
    "Python is a programming language.\n",
    "\n",
    "Anaconda is a set of tools (including Python and Jupyter). Anaconda helps you install, and manage Python packages.\n",
    "\n",
    "Jupyter (either Jupyter Notebook or JupyterLab) allows you to create notebooks containing Python code and Markdown togethor in a single document."
   ],
   "metadata": {
    "collapsed": false
   },
   "id": "ae388968aeb7035e"
  },
  {
   "cell_type": "markdown",
   "source": [
    "**(b)**\n",
    "\n",
    "The answer depend on where you put it!\n",
    "\n",
    "It's probably somewhere in your user directory, maybe in the root of your user directory, or the Downloads folder, or your Desktop, or a specific CMM201 folder you created to organise your work for this project. We wouldn't be able to tell without checking your computer.\n",
    "\n",
    "It's important you know where you are storing a notebook file you're working on. Because otherwise you will be unable to submit the coursework!"
   ],
   "metadata": {
    "collapsed": false
   },
   "id": "f35b1f7a1e111b47"
  },
  {
   "cell_type": "markdown",
   "source": [
    "## Quiz\n",
    "\n",
    "Don't forget to attempt \"Unit 1.1 Quiz\" on CampusMoodle!"
   ],
   "metadata": {
    "collapsed": false
   },
   "id": "12bad3b72f512c3a"
  }
 ],
 "metadata": {
  "kernelspec": {
   "display_name": "Python 3",
   "language": "python",
   "name": "python3"
  },
  "language_info": {
   "codemirror_mode": {
    "name": "ipython",
    "version": 2
   },
   "file_extension": ".py",
   "mimetype": "text/x-python",
   "name": "python",
   "nbconvert_exporter": "python",
   "pygments_lexer": "ipython2",
   "version": "2.7.6"
  }
 },
 "nbformat": 4,
 "nbformat_minor": 5
}
