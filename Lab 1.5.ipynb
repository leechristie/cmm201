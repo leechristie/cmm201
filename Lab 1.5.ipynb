{
 "cells": [
  {
   "cell_type": "markdown",
   "metadata": {},
   "source": [
    "# CMM201 &mdash; Lab 1.5\n",
    "\n",
    "In this lab we'll be finishing off block 1 by covering string manipulation.\n",
    "\n",
    "## Printing Strings\n",
    "\n",
    "First, we'll look at printing a strings and joining strings."
   ]
  },
  {
   "cell_type": "markdown",
   "metadata": {},
   "source": [
    "Quite often we will need to join strings because we have a combination of hard-coded string's and user-input strings.\n",
    "\n",
    "In the program below, all three strings are hard-coded, however, if we imagine that `user_name` and `cat_name` had been input by the user, we could construct a sentence as follows:"
   ]
  },
  {
   "cell_type": "code",
   "execution_count": null,
   "metadata": {},
   "outputs": [],
   "source": [
    "user_name = 'Bob'\n",
    "cat_name = 'Tabby'\n",
    "\n",
    "f\"{user_name}'s cat's name is {cat_name}.\""
   ]
  },
  {
   "cell_type": "markdown",
   "metadata": {},
   "source": [
    "An f-string can either use single quotes `'` or double quotes `\"`. Usually, there is no difference. However, the f-string we used double quotes because the string contained a single quote to represent an apostrophe.\n",
    "\n",
    "If we had used single-quotes, then we would have a syntax error:"
   ]
  },
  {
   "cell_type": "code",
   "execution_count": null,
   "metadata": {},
   "outputs": [],
   "source": [
    "f'{user_name}'s cat's name is {cat_name}.'"
   ]
  },
  {
   "cell_type": "markdown",
   "metadata": {},
   "source": [
    "An alternative to using double-quotes is to *escape* the apostrophe using `\\`."
   ]
  },
  {
   "cell_type": "code",
   "execution_count": null,
   "metadata": {},
   "outputs": [],
   "source": [
    "f'{user_name}\\'s cat\\'s name is {cat_name}.'"
   ]
  },
  {
   "cell_type": "markdown",
   "metadata": {},
   "source": [
    "Above, we're only outputting the string to a Jupyter output cell.\n",
    "\n",
    "We can also output it to standard output (in that case, the surrounding quotes are not printed)."
   ]
  },
  {
   "cell_type": "code",
   "execution_count": null,
   "metadata": {},
   "outputs": [],
   "source": [
    "print(f'{user_name}\\'s cat\\'s name is {cat_name}.')"
   ]
  },
  {
   "cell_type": "markdown",
   "metadata": {},
   "source": [
    "or we can save the string to a variable for later use."
   ]
  },
  {
   "cell_type": "code",
   "execution_count": null,
   "metadata": {},
   "outputs": [],
   "source": [
    "message = f\"{user_name}'s cat's name is {cat_name}.\"\n",
    "\n",
    "message"
   ]
  },
  {
   "cell_type": "markdown",
   "metadata": {},
   "source": [
    "These can also be achieved with concatenation, using the `+` operator."
   ]
  },
  {
   "cell_type": "code",
   "execution_count": null,
   "metadata": {},
   "outputs": [],
   "source": [
    "user_name + \"'s cat's name is \" + cat_name"
   ]
  },
  {
   "cell_type": "markdown",
   "metadata": {},
   "source": [
    "But this method makes it a little harder to notice whether you have your spaces in the correct place.\n",
    "\n",
    "It's easy to make a mistake like this we doing string concatenation.\n",
    "\n",
    "For example, the following code is not correct, but it's tricky to spot exactly what's wrong at a glance:"
   ]
  },
  {
   "cell_type": "code",
   "execution_count": null,
   "metadata": {},
   "outputs": [],
   "source": [
    "user_name + \"'s cat's name is\" + cat_name"
   ]
  },
  {
   "cell_type": "markdown",
   "metadata": {},
   "source": [
    "We also need to know that string concatenation does not work with other types such as integers.\n",
    "\n",
    "Some students may be familiar with other programming languages such as Java or JavaScript which allow this, but Python does not."
   ]
  },
  {
   "cell_type": "code",
   "execution_count": null,
   "metadata": {},
   "outputs": [],
   "source": [
    "age = 25\n",
    "\n",
    "cat_name + ' is ' + age + ' cat-years old'"
   ]
  },
  {
   "cell_type": "markdown",
   "metadata": {},
   "source": [
    "We can typecast the integer to a string"
   ]
  },
  {
   "cell_type": "code",
   "execution_count": null,
   "metadata": {},
   "outputs": [],
   "source": [
    "age = 25\n",
    "\n",
    "cat_name + ' is ' + str(age) + ' cat-years old'"
   ]
  },
  {
   "cell_type": "markdown",
   "metadata": {},
   "source": [
    "or just use an f-string, probably the neatest way to do it!"
   ]
  },
  {
   "cell_type": "code",
   "execution_count": null,
   "metadata": {},
   "outputs": [],
   "source": [
    "f\"{cat_name} is {age} cat-years old\""
   ]
  },
  {
   "cell_type": "markdown",
   "metadata": {},
   "source": [
    "Another way strings are often combined is providing multiple arguments to `print`. This is *only* done when printing, not when saving to a variable."
   ]
  },
  {
   "cell_type": "code",
   "execution_count": null,
   "metadata": {},
   "outputs": [],
   "source": [
    "print(cat_name, 'is', age, 'years old')"
   ]
  },
  {
   "cell_type": "markdown",
   "metadata": {},
   "source": [
    "As you can see, spaces are added automatically.\n",
    "\n",
    "If we don't want spaces between all strings, this is a problem.\n",
    "\n",
    "The following code does not do what we want exactly:"
   ]
  },
  {
   "cell_type": "code",
   "execution_count": null,
   "metadata": {},
   "outputs": [],
   "source": [
    "print(user_name, \"'s cat's name is\", cat_name)"
   ]
  },
  {
   "cell_type": "markdown",
   "metadata": {},
   "source": [
    "Notice `Bob 's` instead of `Bob's`.\n",
    "\n",
    "It can be avoided by changing the default, implied `sep=' '` to `sep=''`."
   ]
  },
  {
   "cell_type": "code",
   "execution_count": null,
   "metadata": {},
   "outputs": [],
   "source": [
    "print(user_name, \"'s cat's name is\", cat_name, sep='')"
   ]
  },
  {
   "cell_type": "markdown",
   "metadata": {},
   "source": [
    "But now we need to remember to add in spaces where we do want them."
   ]
  },
  {
   "cell_type": "code",
   "execution_count": null,
   "metadata": {},
   "outputs": [],
   "source": [
    "print(user_name, \"'s cat's name is \", cat_name, sep='')"
   ]
  },
  {
   "cell_type": "markdown",
   "metadata": {},
   "source": [
    "Hopefully you can see how using f-strings often produce the cleanest, most readable code. This is why they were added to the Python language in Python 3.6."
   ]
  },
  {
   "cell_type": "markdown",
   "metadata": {},
   "source": [
    "**(a)** Use an **f-string** to create and print the message\n",
    "\n",
    "`Hello World!`\n",
    "\n",
    "to standard output (using the given variables). Don't use multiple arguments to `print` or string concatenation)"
   ]
  },
  {
   "cell_type": "code",
   "execution_count": null,
   "metadata": {},
   "outputs": [],
   "source": [
    "x = 'Hello'\n",
    "y = 'World'\n",
    "\n",
    "..."
   ]
  },
  {
   "cell_type": "markdown",
   "metadata": {},
   "source": [
    "**(b)** Use **string concatenation** to create and print the message\n",
    "\n",
    "`Carol's favourite word is \"space\" and number is 42.`\n",
    "\n",
    "to standard output (using the given variables). Don't use multiple arguments to `print` or f-strings)\n",
    "\n",
    "Make sure you exactly create the string shown! Notice the `'` in `Carol's`, the `\"` around `space`, and the `.` on the end. You will need 5 plus signs."
   ]
  },
  {
   "cell_type": "code",
   "execution_count": null,
   "metadata": {},
   "outputs": [],
   "source": [
    "name = 'Carol'\n",
    "word = 'space'\n",
    "number = 42\n",
    "\n",
    "..."
   ]
  },
  {
   "cell_type": "markdown",
   "metadata": {},
   "source": [
    "**(c)** Use multiple arguments to `print` to print the message\n",
    "\n",
    "`Python's taught in CMM201.`\n",
    "\n",
    "to standard output (using the given variables). Don't use string concatenation, or f-strings.\n",
    "\n",
    "Make sure you exactly create the string shown!\n",
    "\n",
    "&nbsp;&nbsp;&nbsp;&nbsp;&nbsp;&nbsp;&nbsp;Wrong: `Python 's`\n",
    "\n",
    "&nbsp;&nbsp;&nbsp;&nbsp;&nbsp;&nbsp;&nbsp;Correct: `Python's`\n",
    "\n",
    "&nbsp;&nbsp;&nbsp;&nbsp;&nbsp;&nbsp;&nbsp;Wrong: `CMM201 .`\n",
    "\n",
    "&nbsp;&nbsp;&nbsp;&nbsp;&nbsp;&nbsp;&nbsp;Correct: `CMM201.`"
   ]
  },
  {
   "cell_type": "code",
   "execution_count": null,
   "metadata": {},
   "outputs": [],
   "source": [
    "lang = 'Python'\n",
    "module = 'CMM201'\n",
    "\n",
    "..."
   ]
  },
  {
   "cell_type": "markdown",
   "metadata": {},
   "source": [
    "## String Methods\n",
    "\n",
    "A method is like a function defined on an object.\n",
    "\n",
    "The `.strip()` method returns a new string which removes leading and trailing spaces\n",
    "\n",
    "e.g. `'  Hello  '.strip()` returns `'Hello'`.\n",
    "\n",
    "Methods can of course be called on variables, for example the following two code cells give the same result."
   ]
  },
  {
   "cell_type": "code",
   "execution_count": null,
   "metadata": {},
   "outputs": [],
   "source": [
    "x = '  Hello  '\n",
    "\n",
    "x.strip()"
   ]
  },
  {
   "cell_type": "code",
   "execution_count": null,
   "metadata": {},
   "outputs": [],
   "source": [
    "'  Hello  '.strip()"
   ]
  },
  {
   "cell_type": "markdown",
   "metadata": {},
   "source": [
    "| Method               | Example String                   | Example Result | Description                                    |\n",
    "|----------------------|----------------------------------|----------------|------------------------------------------------|\n",
    "| `.strip()`           | `'  Hello  '.strip()`            | `'Hello'`      | Removes whitespace.                            |\n",
    "| `.lstrip()`          | `'  Hello  '.lstrip()`           | `'Hello  '`    | Removes whitespace only on the left.           |\n",
    "| `.rstrip()`          | `'  Hello  '.rstrip()`           | `'  Hello'`    | Removes whitespace only on the right.          |\n",
    "| `.replace(old, new)` | `'Hello'.replace('ell', 'XY')`   | `'HXYo'`       | Replaces a given substring with another.       |\n",
    "| `.find(string)`      | `'Hello'.find('o')`              | `4`            | Returns the index of a given substring.        |\n",
    "|                      | `'Hello'.find('x')`              | `-1`           | Note: find returns -1 if not found.            |\n",
    "| `.index(string)`     | `'Hello'.index('o')`             | `4`            | Returns the index of a given substring.        |\n",
    "|                      | `'Hello'.index('x')`             | `ValueError`   | Note: raised ValueError if not found.          |\n",
    "| `.upper()`           | `'Hello'.upper()`                | `HELLO`        | Converts a string to uppercase.                |\n",
    "| `.lower()`           | `'Hello'.lower()`                | `hello`        | Converts a string to lowercase.                |\n",
    "| `.count()`           | `'Hello'.count('l')`             | `2`            | Counts the number of instances of a character. |"
   ]
  },
  {
   "cell_type": "markdown",
   "metadata": {},
   "source": [
    "You can choose to strip any characters by specifying an argument, for example:"
   ]
  },
  {
   "cell_type": "code",
   "execution_count": null,
   "metadata": {},
   "outputs": [],
   "source": [
    "message = 'Hello World!'\n",
    "\n",
    "message.strip('Helo!')"
   ]
  },
  {
   "cell_type": "markdown",
   "metadata": {},
   "source": [
    "The above removes the letters `H`, `e`, `l`, `o`, and `!` from the left and right of the string. Note the `o` from inside the string is not removed."
   ]
  },
  {
   "cell_type": "markdown",
   "metadata": {},
   "source": [
    "Very often we will use `.strip('\\r\\n')` to remove only the line breaks at the end of a string when reading from a file (this is done in Unit 2.1).\n",
    "\n",
    "`.strip()` with no arguments will remove all leading and trailing spaces."
   ]
  },
  {
   "cell_type": "markdown",
   "metadata": {},
   "source": [
    "**(d)** Use `lstrip` to remove the spaces from the left of the string stored in `x`, assigning the result back to `x`. Then display the new value of `x` in a Jupyter output cell. The result should be `Hello ` with  only a space on the right.\n",
    "\n",
    "**Note:** Remember string manipulation methods don't change value of `x`, you need to use `x =` ..."
   ]
  },
  {
   "cell_type": "code",
   "execution_count": null,
   "metadata": {},
   "outputs": [],
   "source": [
    "x = ' Hello '\n",
    "\n",
    "...\n",
    "\n",
    "x"
   ]
  },
  {
   "cell_type": "markdown",
   "metadata": {},
   "source": [
    "**(e)** Strip the `a` and `e` from the variable, leaving `bcd`.`"
   ]
  },
  {
   "cell_type": "code",
   "execution_count": null,
   "metadata": {},
   "outputs": [],
   "source": [
    "x = 'abcde'\n",
    "\n",
    "...\n",
    "\n",
    "x"
   ]
  },
  {
   "cell_type": "markdown",
   "metadata": {},
   "source": [
    "One way to check whether a character (or substring) in contained within a string is to use `.find()`, for example:"
   ]
  },
  {
   "cell_type": "code",
   "execution_count": null,
   "metadata": {},
   "outputs": [],
   "source": [
    "word = 'Hello'\n",
    "\n",
    "if word.find('ll') != -1:\n",
    "    print(f'The word \"{word}\" contains a double l')"
   ]
  },
  {
   "cell_type": "markdown",
   "metadata": {},
   "source": [
    "In many programming languages, this is recommended, however, this is **not recommended** in Python because there is a much clearer syntax using the `in` keyword:"
   ]
  },
  {
   "cell_type": "code",
   "execution_count": null,
   "metadata": {},
   "outputs": [],
   "source": [
    "word = 'Hello'\n",
    "\n",
    "if 'll' in word:\n",
    "    print(f'The word \"{word}\" contains a double l')"
   ]
  },
  {
   "cell_type": "markdown",
   "metadata": {},
   "source": [
    "`.find()` or `.index()` should be used when we want to know the position of the character or substring."
   ]
  },
  {
   "cell_type": "markdown",
   "metadata": {},
   "source": [
    "One good use of `in` is to check if a string is a whole word or contains spaces."
   ]
  },
  {
   "cell_type": "code",
   "execution_count": null,
   "metadata": {},
   "outputs": [],
   "source": [
    "text = 'Hello'\n",
    "\n",
    "' ' in text"
   ]
  },
  {
   "cell_type": "code",
   "execution_count": null,
   "metadata": {},
   "outputs": [],
   "source": [
    "text = 'Hello World'\n",
    "\n",
    "' ' in text"
   ]
  },
  {
   "cell_type": "markdown",
   "metadata": {},
   "source": [
    "**(f)** Count the occurrence of the letter `T` (or `t`) in `The cat in the hat!`. (there are 4)\n",
    "\n",
    "**Hint:** use `.upper()` and `.count()`"
   ]
  },
  {
   "cell_type": "code",
   "execution_count": null,
   "metadata": {},
   "outputs": [],
   "source": [
    "x = 'The cat in the hat!'\n",
    "\n",
    "..."
   ]
  },
  {
   "cell_type": "markdown",
   "metadata": {},
   "source": [
    "**(g)** Change x to `The dog in the hat!` using `.replace()`, then show the result to a Jupyter output cells."
   ]
  },
  {
   "cell_type": "code",
   "execution_count": null,
   "metadata": {},
   "outputs": [],
   "source": [
    "x = 'The cat in the hat!'\n",
    "\n",
    "...\n",
    "\n",
    "x"
   ]
  },
  {
   "cell_type": "markdown",
   "metadata": {},
   "source": [
    "## Handling Input"
   ]
  },
  {
   "cell_type": "markdown",
   "metadata": {},
   "source": [
    "`input()` is an impure function, so are functions which use it. `input()` prompts the user to type some input. You can customise the prompt by giving an argument."
   ]
  },
  {
   "cell_type": "code",
   "execution_count": null,
   "metadata": {},
   "outputs": [],
   "source": [
    "name = input('Please input your name:')\n",
    "\n",
    "print('Hi', name)"
   ]
  },
  {
   "cell_type": "markdown",
   "metadata": {},
   "source": [
    "Sometimes this is combined with `strip` to remove trailing spaces. Try running the cell below and typing `Hello` into the user input prompt surrounded by a bunch of extra spaces."
   ]
  },
  {
   "cell_type": "code",
   "execution_count": null,
   "metadata": {},
   "outputs": [],
   "source": [
    "message = input('Please input a message:')\n",
    "message = message.strip()\n",
    "\n",
    "print(f'The message was \"{message}\" (after stripping spaces).')"
   ]
  },
  {
   "cell_type": "markdown",
   "metadata": {},
   "source": [
    "We know we can check the length of a string using `len`. But if you want to check if a string has length greater than one, we can do"
   ]
  },
  {
   "cell_type": "code",
   "execution_count": null,
   "metadata": {},
   "outputs": [],
   "source": [
    "message = input('Type something:')\n",
    "\n",
    "if len(message) > 0:\n",
    "    print('message was not empty')\n",
    "else:\n",
    "    print('message was empty')"
   ]
  },
  {
   "cell_type": "markdown",
   "metadata": {},
   "source": [
    "But in Python, we can shorten this as follows:"
   ]
  },
  {
   "cell_type": "code",
   "execution_count": null,
   "metadata": {},
   "outputs": [],
   "source": [
    "message = input('Type something:')\n",
    "\n",
    "if message:\n",
    "    print('message was not empty')\n",
    "else:\n",
    "    print('message was empty')"
   ]
  },
  {
   "cell_type": "markdown",
   "metadata": {},
   "source": [
    "By saying `if message` we are testing `if len(message) > 0`.\n",
    "\n",
    "**(h)** Write a program which prompts the user for their name. If the input was nothing (or only spaces), display a message `Invalid input!`."
   ]
  },
  {
   "cell_type": "code",
   "execution_count": null,
   "metadata": {},
   "outputs": [],
   "source": [
    "..."
   ]
  },
  {
   "cell_type": "markdown",
   "metadata": {},
   "source": [
    "## Exceptions\n",
    "\n",
    "In the previous lab, we noticed that there were problems with our implmentation of Fibonacci numbers."
   ]
  },
  {
   "cell_type": "code",
   "execution_count": null,
   "metadata": {},
   "outputs": [],
   "source": [
    "def fib(n):\n",
    "    if n == 1:\n",
    "        return 1\n",
    "    if n == 2:\n",
    "        return 1\n",
    "    return fib(n-2) + fib(n-1)"
   ]
  },
  {
   "cell_type": "markdown",
   "metadata": {},
   "source": [
    "Specifically, if the number is less than 1, or not an integer, the function will run for a long time and not complete successfully. We want it to detect the problem quickly and inform us!\n",
    "\n",
    "We can raise a value error using the `raise` keyword\n",
    "\n",
    "    raise ValueError\n",
    "\n",
    "if you want to give a specific message, specify an argument to `ValueError` with the message.\n",
    "\n",
    "    raise ValueError('my message goes here')\n",
    "\n",
    "We're going to the function so that if `n` is not an integer, we get a value error with the message `'n is not an integer'` and if `n` is an integer, but is not positive, we get a value error with the message `'n is non-positive'`.\n",
    "\n",
    "We can check if a variable `n` is not an integer using the Boolean logical expression `type(n) is not int`."
   ]
  },
  {
   "cell_type": "code",
   "execution_count": null,
   "metadata": {},
   "outputs": [],
   "source": [
    "def fib(n):\n",
    "    if type(n) is not int:\n",
    "        raise ValueError('n is not an integer')   # check non-integer\n",
    "    if n < 1:\n",
    "        raise ValueError('n is not positive')    # check non-positive\n",
    "    if n == 1:\n",
    "        return 1\n",
    "    if n == 2:\n",
    "        return 1\n",
    "    return fib(n-2) + fib(n-1)"
   ]
  },
  {
   "cell_type": "markdown",
   "metadata": {},
   "source": [
    "Now try it out!"
   ]
  },
  {
   "cell_type": "code",
   "execution_count": null,
   "metadata": {},
   "outputs": [],
   "source": [
    "fib(0)"
   ]
  },
  {
   "cell_type": "code",
   "execution_count": null,
   "metadata": {},
   "outputs": [],
   "source": [
    "fib(6.5)"
   ]
  },
  {
   "cell_type": "markdown",
   "metadata": {},
   "source": [
    "We can catch exception to prevent the stack trace from showing. This allows us to present a more friendly error message, and possibly recover from the error."
   ]
  },
  {
   "cell_type": "code",
   "execution_count": null,
   "metadata": {},
   "outputs": [],
   "source": [
    "try:\n",
    "    fib(6.5)\n",
    "    print('Everything is fine.')\n",
    "except ValueError:\n",
    "    print('An exception was thrown!!!')\n",
    "\n",
    "print('Continuing with the program')"
   ]
  },
  {
   "cell_type": "markdown",
   "metadata": {},
   "source": [
    "We can also get the error text as follows:"
   ]
  },
  {
   "cell_type": "code",
   "execution_count": null,
   "metadata": {},
   "outputs": [],
   "source": [
    "try:\n",
    "    fib(6.5)\n",
    "    print('Everything is fine.')\n",
    "except ValueError as e:\n",
    "    print('An exception was thrown!!!')\n",
    "    message = str(e)\n",
    "    print('The error message was:', message)"
   ]
  },
  {
   "cell_type": "markdown",
   "metadata": {},
   "source": [
    "**(i)** Next up, write a program which does the following:\n",
    "\n",
    "1. Prompt the user for a value for `n`.\n",
    "\n",
    "2. If the user did not input an integer, display the message `'n is not an integer'` (do not print a stack trace)\n",
    "\n",
    "3. If the user input 0 or a negative integer, display the message `'n is not positive'` (do not print a stack trace)\n",
    "\n",
    "4. If `n` is a positive integer, calculate `fib(n)`, and displays a message like `'fib(7) = 13'`."
   ]
  },
  {
   "cell_type": "code",
   "execution_count": null,
   "metadata": {},
   "outputs": [],
   "source": [
    "..."
   ]
  },
  {
   "cell_type": "markdown",
   "metadata": {},
   "source": [
    "## Rounding For Display\n",
    "\n",
    "Previously we saw that sometimes floating point calualtions give strange rounding errors."
   ]
  },
  {
   "cell_type": "code",
   "execution_count": null,
   "metadata": {},
   "outputs": [],
   "source": [
    "initial_balance = 0.1\n",
    "deposit = 0.2\n",
    "\n",
    "initial_balance + deposit"
   ]
  },
  {
   "cell_type": "markdown",
   "metadata": {},
   "source": [
    "And we saw that we can round them off using `round`. The round function here is taking a floating point number, and returning another floating point number which is the nearest to 2 decimal places (`0.3`)."
   ]
  },
  {
   "cell_type": "code",
   "execution_count": null,
   "metadata": {},
   "outputs": [],
   "source": [
    "initial_balance = 0.1\n",
    "deposit = 0.2\n",
    "\n",
    "round(initial_balance + deposit, 2)"
   ]
  },
  {
   "cell_type": "markdown",
   "metadata": {},
   "source": [
    "But, we may want to have both decimals displayed `0.30` even though the last one is a **trailing zero**. This is because money is often displayed to a fixed number of decimals, including trailing.\n",
    "\n",
    "If we use string formatting, we get a string instead."
   ]
  },
  {
   "cell_type": "code",
   "execution_count": null,
   "metadata": {},
   "outputs": [],
   "source": [
    "initial_balance = 0.1\n",
    "deposit = 0.2\n",
    "\n",
    "f'{initial_balance + deposit:.2f}'"
   ]
  },
  {
   "cell_type": "markdown",
   "metadata": {},
   "source": [
    "This is four characters long, `0`, `.`, `3`, and `0` and is not a number, just text. We can print it to standard output without the quotes, also, let's add some more text to tell the user the meaning of 0.30."
   ]
  },
  {
   "cell_type": "code",
   "execution_count": null,
   "metadata": {},
   "outputs": [],
   "source": [
    "initial_balance = 0.1\n",
    "deposit = 0.2\n",
    "\n",
    "print(f'Your balance is now £{initial_balance + deposit:.2f}')"
   ]
  },
  {
   "cell_type": "markdown",
   "metadata": {},
   "source": [
    "## The Decimal Type (Optional Material)\n",
    "\n",
    "If you have some time left over, this section is just an optional extra.\n",
    "\n",
    "Python has a `Decimal` type which can be imported from the `decimal` package (note one has a capital `D`).\n",
    "\n",
    "There are different way of constructing an instance, the most useful of which is to use strings.\n",
    "\n",
    "This constructs the values `0.1` and `0.2` as `Decimal`, then does a precise addition without any rounding error. This is safer to use in a program which deals with money."
   ]
  },
  {
   "cell_type": "code",
   "execution_count": null,
   "metadata": {},
   "outputs": [],
   "source": [
    "from decimal import Decimal\n",
    "\n",
    "initial_balance = Decimal('0.1')\n",
    "deposit = Decimal('0.2')\n",
    "\n",
    "initial_balance + deposit"
   ]
  },
  {
   "cell_type": "markdown",
   "metadata": {},
   "source": [
    "However, it still doesn't give us a nice output, so let's update the program with the same string formatting code as before."
   ]
  },
  {
   "cell_type": "code",
   "execution_count": null,
   "metadata": {},
   "outputs": [],
   "source": [
    "from decimal import Decimal\n",
    "\n",
    "initial_balance = Decimal('0.1')\n",
    "deposit = Decimal('0.2')\n",
    "\n",
    "print(f'Your balance is now £{initial_balance + deposit:.2f}')"
   ]
  },
  {
   "cell_type": "markdown",
   "metadata": {},
   "source": [
    "So why use a `Decimal` if you're still going to need to use display rounding to get the trailing zero?\n",
    "\n",
    "Well, there's a possibility that if a lot of calculations were done with floating-point numbers, say in a large commercial applications doing billions of monetary calculations, these tiny rounding errors add up to something significant that produces an incorrect solution and could end up being a penny off!\n",
    "\n",
    "Doing the calculations in this way prevents those rounding errors from happening, and ensures we get the calculations exactly right!"
   ]
  }
 ],
 "metadata": {
  "kernelspec": {
   "display_name": "Python 3 (ipykernel)",
   "language": "python",
   "name": "python3"
  },
  "language_info": {
   "codemirror_mode": {
    "name": "ipython",
    "version": 3
   },
   "file_extension": ".py",
   "mimetype": "text/x-python",
   "name": "python",
   "nbconvert_exporter": "python",
   "pygments_lexer": "ipython3",
   "version": "3.9.10"
  }
 },
 "nbformat": 4,
 "nbformat_minor": 4
}
