{
 "cells": [
  {
   "cell_type": "markdown",
   "metadata": {},
   "source": [
    "*Edited: 17th September 2023*"
   ]
  },
  {
   "cell_type": "markdown",
   "metadata": {},
   "source": [
    "# CMM201 &mdash; Lab 2.4 &mdash; Solutions"
   ]
  },
  {
   "cell_type": "code",
   "execution_count": null,
   "metadata": {},
   "outputs": [],
   "source": [
    "import pandas as pd\n",
    "import plotly.express as px\n",
    "\n",
    "df = px.data.iris()"
   ]
  },
  {
   "cell_type": "markdown",
   "metadata": {},
   "source": [
    "**(a)**\n",
    "\n",
    "The argument `height` is not required, but it gives more space to view the plot. For 3D plots, a small area can make them turn out way too small."
   ]
  },
  {
   "cell_type": "code",
   "execution_count": null,
   "metadata": {},
   "outputs": [],
   "source": [
    "px.scatter_3d(df,\n",
    "              x=\"sepal_width\",\n",
    "              y=\"sepal_length\",\n",
    "              z=\"petal_width\",\n",
    "              color=\"species\",\n",
    "              height=500)"
   ]
  },
  {
   "cell_type": "markdown",
   "metadata": {},
   "source": [
    "**(b)**"
   ]
  },
  {
   "cell_type": "markdown",
   "metadata": {},
   "source": [
    "In a discrete colour scale, the adjacent colours are very different. In a continuous colour scale, they blend together using similar colours."
   ]
  },
  {
   "cell_type": "markdown",
   "metadata": {},
   "source": [
    "**(c)**"
   ]
  },
  {
   "cell_type": "code",
   "execution_count": null,
   "metadata": {},
   "outputs": [],
   "source": [
    "px.scatter_3d(df,\n",
    "              x=\"sepal_width\",\n",
    "              y=\"sepal_length\",\n",
    "              z=\"petal_width\",\n",
    "              color=\"species\",\n",
    "              height=500,\n",
    "              color_discrete_sequence=px.colors.qualitative.Safe)"
   ]
  },
  {
   "cell_type": "markdown",
   "metadata": {},
   "source": [
    "**(d)**"
   ]
  },
  {
   "cell_type": "code",
   "execution_count": null,
   "metadata": {},
   "outputs": [],
   "source": [
    "px.scatter_3d(df,\n",
    "              x=\"sepal_width\",\n",
    "              y=\"sepal_length\",\n",
    "              z=\"petal_width\",\n",
    "              color=\"species\",\n",
    "              height=500,\n",
    "              color_discrete_sequence=px.colors.qualitative.Safe,\n",
    "              opacity=0.5)"
   ]
  },
  {
   "cell_type": "markdown",
   "metadata": {},
   "source": [
    "**(e)**"
   ]
  },
  {
   "cell_type": "markdown",
   "metadata": {},
   "source": [
    "The Setosa spices is clearly different from the other two flowers. It has a smaller petal width for example, and lower sepal length."
   ]
  },
  {
   "cell_type": "markdown",
   "metadata": {},
   "source": [
    "**(f)**\n",
    "\n",
    "There is `hover_data` which adds an extra item (or items) of data to the hover popup, and `hover_name` which will add one item of data as the identifying name and will be in a bolder font at the top, away from other items of data. Since `petal_length` is not necessarily more important or key to labelling the data point than the others, I would use `hover_data` not `hover_name`."
   ]
  },
  {
   "cell_type": "code",
   "execution_count": null,
   "metadata": {},
   "outputs": [],
   "source": [
    "px.scatter_3d(df,\n",
    "              x=\"sepal_width\",\n",
    "              y=\"sepal_length\",\n",
    "              z=\"petal_width\",\n",
    "              color=\"species\",\n",
    "              height=500,\n",
    "              color_discrete_sequence=px.colors.qualitative.Safe,\n",
    "              opacity=0.5,\n",
    "              hover_data=['petal_length'])"
   ]
  },
  {
   "cell_type": "markdown",
   "metadata": {},
   "source": [
    "**(g)**"
   ]
  },
  {
   "cell_type": "code",
   "execution_count": null,
   "metadata": {},
   "outputs": [],
   "source": [
    "px.scatter_3d(df,\n",
    "              x=\"sepal_width\",\n",
    "              y=\"sepal_length\",\n",
    "              z=\"petal_width\",\n",
    "              color=\"species\",\n",
    "              height=500,\n",
    "              color_discrete_sequence=px.colors.qualitative.Safe,\n",
    "              opacity=0.5,\n",
    "              hover_data=['petal_length'],\n",
    "              labels={\"sepal_width\" : \"sepal width (cm)\",\n",
    "                      \"sepal_length\" : \"sepal length (cm)\",\n",
    "                      \"petal_width\" : \"petal width (cm)\",\n",
    "                      \"petal_length\" : \"petal length (cm)\"},\n",
    "              title=\"iris dataset, petal and sepal measurements\")"
   ]
  },
  {
   "cell_type": "markdown",
   "metadata": {},
   "source": [
    "If you prefer, you can also rename the columns in Pandas before passing to Plotly. One way isn't necessarily \"better\" than the other.\n",
    "\n",
    "In this case you won't need the `labels` argument.\n",
    "\n",
    "Here is an example of how you would do that:"
   ]
  },
  {
   "cell_type": "code",
   "execution_count": null,
   "metadata": {},
   "outputs": [],
   "source": [
    "df = df.rename(columns={\"sepal_width\" : \"sepal width (cm)\",\n",
    "                        \"sepal_length\" : \"sepal length (cm)\",\n",
    "                        \"petal_width\" : \"petal width (cm)\",\n",
    "                        \"petal_length\" : \"petal length (cm)\"})\n",
    "px.scatter_3d(df,\n",
    "              x=\"sepal width (cm)\",\n",
    "              y=\"sepal length (cm)\",\n",
    "              z=\"petal width (cm)\",\n",
    "              color=\"species\",\n",
    "              height=500,\n",
    "              color_discrete_sequence=px.colors.qualitative.Safe,\n",
    "              opacity=0.5,\n",
    "              hover_data=[\"petal length (cm)\"],\n",
    "              title=\"iris dataset, petal and sepal measurements\")"
   ]
  },
  {
   "cell_type": "markdown",
   "metadata": {},
   "source": [
    "**(h)**"
   ]
  },
  {
   "cell_type": "markdown",
   "metadata": {},
   "source": [
    "According to the Plotly Express documentation, `hover_data` takes a list of (1 or more) extra attributes to add to the hover box, whereas `hover_name` takes 1 attribute to highlight in bold at the top of the hover box.\n",
    "\n",
    "You may want to use `hover_name` when the additional attribute is somehow representative of the object being plotted, such as the item's name or some kind of unique ID."
   ]
  }
 ],
 "metadata": {
  "kernelspec": {
   "display_name": "Python 3 (ipykernel)",
   "language": "python",
   "name": "python3"
  },
  "language_info": {
   "codemirror_mode": {
    "name": "ipython",
    "version": 3
   },
   "file_extension": ".py",
   "mimetype": "text/x-python",
   "name": "python",
   "nbconvert_exporter": "python",
   "pygments_lexer": "ipython3",
   "version": "3.9.13"
  }
 },
 "nbformat": 4,
 "nbformat_minor": 4
}
